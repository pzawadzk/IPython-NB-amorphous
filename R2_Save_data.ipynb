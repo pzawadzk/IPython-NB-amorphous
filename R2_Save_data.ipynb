{
 "metadata": {
  "name": "",
  "signature": "sha256:eec3ad302df9b7acc8f63423bab5d6cc10d0a9489dd90044bcb136125f80a421"
 },
 "nbformat": 3,
 "nbformat_minor": 0,
 "worksheets": [
  {
   "cells": [
    {
     "cell_type": "markdown",
     "metadata": {},
     "source": [
      "## Colects Resutls"
     ]
    },
    {
     "cell_type": "code",
     "collapsed": false,
     "input": [
      "%pylab inline\n",
      "import numpy as np\n",
      "import os\n",
      "import sys\n",
      "from ase import io\n",
      "import pickle\n",
      "\n",
      "from tools import *\n",
      "import re\n",
      "import os.path, time\n",
      "from pylada.vasp import  Extract\n",
      "!pwd"
     ],
     "language": "python",
     "metadata": {},
     "outputs": [
      {
       "output_type": "stream",
       "stream": "stdout",
       "text": [
        "Populating the interactive namespace from numpy and matplotlib\n",
        "/nopt/nrel/apps/epel/6.3/bin/sh: BASH_FUNC_module(): line 0: syntax error near unexpected token `)'\r\n",
        "/nopt/nrel/apps/epel/6.3/bin/sh: BASH_FUNC_module(): line 0: `BASH_FUNC_module() () {  eval `/nopt/Modules/$MODULE_VERSION/bin/modulecmd bash $*`'\r\n",
        "/nopt/nrel/apps/epel/6.3/bin/sh: error importing function definition for `BASH_FUNC_module'\r\n",
        "/home/pzawadzk/notebooks/amor\r\n"
       ]
      }
     ],
     "prompt_number": 1
    },
    {
     "cell_type": "code",
     "collapsed": false,
     "input": [],
     "language": "python",
     "metadata": {},
     "outputs": [],
     "prompt_number": 1
    },
    {
     "cell_type": "code",
     "collapsed": false,
     "input": [
      "mult_o = {'Sn':3, 'Zn':2, 'Mg':2, 'In':5, 'Ga':5, 'Ti':3, 'Sr':2}\n",
      "mult_n = {'Sn':7, 'Zn':5, 'Mg':5, 'In':2, 'Ga':2, 'Al':2, 'Cu':4, 'B':2}\n",
      "def conv_extract(path, sa, sb, sc, dir1='bulk'):\n",
      "    list_data = {}\n",
      "    dir1 = os.path.join(path, dir1)\n",
      "    if os.path.isdir(dir1):\n",
      "        for dir2 in os.listdir(dir1):\n",
      "            dir2 = os.path.join(dir1, dir2)\n",
      "            if os.path.isdir(dir2):\n",
      "                for dir3 in os.listdir(dir2):\n",
      "                    dir3 = os.path.join(dir2, dir3)\n",
      "                    print dir3.split('_')\n",
      "                    A = float(dir3.split('_')[-5])\n",
      "                    B = float(dir3.split('_')[-3])\n",
      "                    #print A, B\n",
      "                \n",
      "                    seed =  int(dir3.split('_')[-8])\n",
      "                    elements = {}\n",
      "                    if 'OUTCAR' in  os.listdir(dir3):\n",
      "                    \n",
      "                            calc = Extract(os.path.join(dir3, '0', 'data', '1_0', 'OUTCAR'))\n",
      "\n",
      "                            structure = calc.structure\n",
      "                            for atom in structure:\n",
      "                                if atom.type not in elements.keys():\n",
      "                                    elements[atom.type] = 0\n",
      "                                elements[atom.type] += 1\n",
      "                                \n",
      "                            E = float(calc.energy_sigma0)\n",
      "                            accept_file = os.path.join(dir3, '0', 'accept.dat')\n",
      "                            data_accept = np.loadtxt(accept_file)\n",
      "                            E = data_accept[-1][1]*len(structure)\n",
      "                            if sc == 'O':\n",
      "                                x = A*mult_o[sa]/(A*mult_o[sa] +B* mult_o[sb])\n",
      "                            if sc == 'N':\n",
      "                                x = A*mult_n[sa]/(A*mult_n[sa] +B* mult_n[sb])\n",
      "                            if A not in list_data.keys():\n",
      "                                list_data[A] = []\n",
      "                            list_data[A].append([seed, [A,B, x], elements, E/len(structure), structure,])\n",
      "          \n",
      "    return list_data"
     ],
     "language": "python",
     "metadata": {},
     "outputs": [],
     "prompt_number": 2
    },
    {
     "cell_type": "code",
     "collapsed": false,
     "input": [
      "\n",
      "data_keys = os.listdir('/scratch/pzawadzk/amor')\n",
      "data_keys.remove('misc')\n",
      "data_keys.remove('not_finished')\n",
      "data_keys = ['ZnBN', ]#'ZnInO', 'ZnGaO', 'InGaO', 'MgZnO', ]#'SnTiO']\n",
      "for dat_key in data_keys:\n",
      "    print '#####', dat_key\n",
      "    [As, Bs, Cs] = re.findall('[A-Z][^A-Z]*', dat_key)\n",
      "    if 'N' in [As, Bs, Cs]:\n",
      "        data = conv_extract('/scratch/pzawadzk/amor/%s'%dat_key, As, Bs, Cs, dir1='bulk')\n",
      "        f = open('data/%s_data.pckl'%dat_key, 'w')\n",
      "        pickle.dump(data, f)\n",
      "        f.close()\n"
     ],
     "language": "python",
     "metadata": {},
     "outputs": [
      {
       "output_type": "stream",
       "stream": "stdout",
       "text": [
        "##### ZnBN\n",
        "['/scratch/pzawadzk/amor/ZnBN/bulk/140', 'seed', '3', 'par', 'A', '0', 'B', '70', 'T0/basin', 'hoping']\n",
        "['/scratch/pzawadzk/amor/ZnBN/bulk/140', 'seed', '4', 'par', 'A', '12', 'B', '40', 'T0/basin', 'hoping']"
       ]
      },
      {
       "output_type": "stream",
       "stream": "stdout",
       "text": [
        "\n",
        "['/scratch/pzawadzk/amor/ZnBN/bulk/140', 'seed', '4', 'par', 'A', '20', 'B', '20', 'T0/basin', 'hoping']"
       ]
      },
      {
       "output_type": "stream",
       "stream": "stdout",
       "text": [
        "\n",
        "['/scratch/pzawadzk/amor/ZnBN/bulk/140', 'seed', '3', 'par', 'A', '12', 'B', '40', 'T0/basin', 'hoping']"
       ]
      },
      {
       "output_type": "stream",
       "stream": "stdout",
       "text": [
        "\n",
        "['/scratch/pzawadzk/amor/ZnBN/bulk/140', 'seed', '1', 'par', 'A', '12', 'B', '40', 'T0/basin', 'hoping']"
       ]
      },
      {
       "output_type": "stream",
       "stream": "stdout",
       "text": [
        "\n",
        "['/scratch/pzawadzk/amor/ZnBN/bulk/140', 'seed', '2', 'par', 'A', '0', 'B', '70', 'T0/basin', 'hoping']"
       ]
      },
      {
       "output_type": "stream",
       "stream": "stdout",
       "text": [
        "\n",
        "['/scratch/pzawadzk/amor/ZnBN/bulk/140', 'seed', '1', 'par', 'A', '20', 'B', '20', 'T0/basin', 'hoping']"
       ]
      },
      {
       "output_type": "stream",
       "stream": "stdout",
       "text": [
        "\n",
        "['/scratch/pzawadzk/amor/ZnBN/bulk/140', 'seed', '2', 'par', 'A', '28', 'B', '0', 'T0/basin', 'hoping']"
       ]
      },
      {
       "output_type": "stream",
       "stream": "stdout",
       "text": [
        "\n",
        "['/scratch/pzawadzk/amor/ZnBN/bulk/140', 'seed', '2', 'par', 'A', '12', 'B', '40', 'T0/basin', 'hoping']"
       ]
      },
      {
       "output_type": "stream",
       "stream": "stdout",
       "text": [
        "\n",
        "['/scratch/pzawadzk/amor/ZnBN/bulk/140', 'seed', '1', 'par', 'A', '28', 'B', '0', 'T0/basin', 'hoping']"
       ]
      },
      {
       "output_type": "stream",
       "stream": "stdout",
       "text": [
        "\n",
        "['/scratch/pzawadzk/amor/ZnBN/bulk/140', 'seed', '4', 'par', 'A', '28', 'B', '0', 'T0/basin', 'hoping']"
       ]
      },
      {
       "output_type": "stream",
       "stream": "stdout",
       "text": [
        "\n",
        "['/scratch/pzawadzk/amor/ZnBN/bulk/140', 'seed', '1', 'par', 'A', '0', 'B', '70', 'T0/basin', 'hoping']"
       ]
      },
      {
       "output_type": "stream",
       "stream": "stdout",
       "text": [
        "\n",
        "['/scratch/pzawadzk/amor/ZnBN/bulk/140', 'seed', '2', 'par', 'A', '20', 'B', '20', 'T0/basin', 'hoping']"
       ]
      },
      {
       "output_type": "stream",
       "stream": "stdout",
       "text": [
        "\n",
        "['/scratch/pzawadzk/amor/ZnBN/bulk/140', 'seed', '4', 'par', 'A', '0', 'B', '70', 'T0/basin', 'hoping']"
       ]
      },
      {
       "output_type": "stream",
       "stream": "stdout",
       "text": [
        "\n",
        "['/scratch/pzawadzk/amor/ZnBN/bulk/140', 'seed', '3', 'par', 'A', '20', 'B', '20', 'T0/basin', 'hoping']"
       ]
      },
      {
       "output_type": "stream",
       "stream": "stdout",
       "text": [
        "\n",
        "['/scratch/pzawadzk/amor/ZnBN/bulk/140', 'seed', '3', 'par', 'A', '28', 'B', '0', 'T0/basin', 'hoping']"
       ]
      },
      {
       "output_type": "stream",
       "stream": "stdout",
       "text": [
        "\n"
       ]
      }
     ],
     "prompt_number": 5
    },
    {
     "cell_type": "code",
     "collapsed": false,
     "input": [
      "\n",
      "\n",
      "\n",
      "\n"
     ],
     "language": "python",
     "metadata": {},
     "outputs": []
    },
    {
     "cell_type": "code",
     "collapsed": false,
     "input": [
      "import os.path, time\n",
      "from pylada.vasp import  Extract\n",
      "epsilon = {'Zn':[8.1, 2, 2], 'Mg':[9.8, 2, 2], 'In':[8.9,2.5, 5], 'Ga':[9.9,2.5, 5], \n",
      "           'Sn':[13,3, 3],'Ti':[43,3, 3], 'Sr':[9.8, 2,2], }\n",
      "mult = {'Sn':3, 'Zn':2, 'Mg':2, 'In':5, 'Ga':5, 'Ti':3, 'Sr':2}\n",
      "\n",
      "def conv_extract(path, sa, sb, dir1='bulk'):\n",
      "    charge = {'Sn':4, 'Ti':4, 'In':3, 'Ga':3, 'Zn':2, 'Mg':2, 'Cu':1, 'O':-2, 'N':-3, 'Sr':2}\n",
      "    list_data = {}\n",
      "    dir1 = os.path.join(path, dir1)\n",
      "    if os.path.isdir(dir1):\n",
      "        for dir2 in os.listdir(dir1):\n",
      "            dir2 = os.path.join(dir1, dir2)\n",
      "            if os.path.isdir(dir2):\n",
      "                for dir3 in os.listdir(dir2):\n",
      "                    dir3 = os.path.join(dir2, dir3)\n",
      "                    #print dir3.split('_')\n",
      "                    A = float(dir3.split('_')[-5])\n",
      "                    B = float(dir3.split('_')[-3])\n",
      "                    #print A, B\n",
      "                \n",
      "                    seed =  int(dir3.split('_')[-8])\n",
      "                    elements = {}\n",
      "                    if 'OUTCAR' in  os.listdir(dir3):\n",
      "                     #try:\n",
      "                        calc = Extract(os.path.join(dir3, 'OUTCAR'))\n",
      "                        if np.abs(calc.pressure)>10 or np.max(calc.forces)>1.0:\n",
      "                            pass\n",
      "                            print '!!!!!!!!!!', dir3\n",
      "                            print calc.pressure, np.max(calc.forces)\n",
      "                            #print A, , calc.energy_sigma0/len(calc.structure)\n",
      "                        else:\n",
      "                            print dir3\n",
      "                            #print calc.pressure, np.max(calc.forces)\n",
      "                            #print 'ok',  A, np.mrx(calc.forces), calc.energy_sigma0/len(calc.structure)\n",
      "                            structure = calc.structure\n",
      "                            for atom in structure:\n",
      "                                if atom.type not in elements.keys():\n",
      "                                    elements[atom.type] = 0\n",
      "                                elements[atom.type] += 1\n",
      "                            E = float(calc.energy_sigma0)\n",
      "                            accept_file = os.path.join(dir3, '0', 'accept.dat')\n",
      "                            data_accept = np.loadtext(accept_file)\n",
      "                            print data_accept[-1]\n",
      "                            latenf = os.path.join(dir3,'madelung.pckl')\n",
      "                            Umotif = 0# get_motif_en(structure)\n",
      "                            try:\n",
      "                                f = open(latenf , 'r')\n",
      "                                U = sum(pickle.load(f))\n",
      "                                f.close()\n",
      "                            except:\n",
      "                                structure_ase = io.read(os.path.join(dir3, 'OUTCAR'), format = 'vasp_out')\n",
      "                                u = get_lattice_energy(structure_ase, charge, Ng=[3, 3, 3], Nl=[1, 1, 1])\n",
      "                                \n",
      "                                #print u\n",
      "                                f = open(latenf , 'w')\n",
      "                                pickle.dump(u, f)\n",
      "                                f.close()\n",
      "                                U = sum(u)\n",
      "                                \n",
      "                            x = A*mult[sa]/(A*mult[sa] +B* mult[sb])\n",
      "                            eps = 0\n",
      "                            for key in elements.keys():\n",
      "                                if key in epsilon.keys():\n",
      "                                    eps += epsilon[key][0]*epsilon[key][1]*elements[key]\n",
      "                            #print elements\n",
      "                            count, conf_count = count_configurations_5(structure,'O', atoms = elements.keys())\n",
      "                            #print count, conf_count\n",
      "                            if A not in list_data.keys():\n",
      "                                list_data[A] = []\n",
      "                            list_data[A].append([seed, [A,B, x], elements, E/len(structure), U/len(structure), eps/len(structure), Umotif/len(structure),conf_count, structure,])\n",
      "                        #except:\n",
      "                         #   print 'Error in ', dir2\n",
      "    return list_data"
     ],
     "language": "python",
     "metadata": {},
     "outputs": []
    },
    {
     "cell_type": "code",
     "collapsed": false,
     "input": [],
     "language": "python",
     "metadata": {},
     "outputs": []
    }
   ],
   "metadata": {}
  }
 ]
}