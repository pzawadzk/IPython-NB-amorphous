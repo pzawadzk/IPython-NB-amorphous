{
 "metadata": {
  "name": "",
  "signature": "sha256:bdfef9dda7c4ac32940c3d82ec7349ad19a0457e374f81032eb17186f7eff778"
 },
 "nbformat": 3,
 "nbformat_minor": 0,
 "worksheets": [
  {
   "cells": [
    {
     "cell_type": "markdown",
     "metadata": {},
     "source": [
      "## Prints the progress of KLM calculations"
     ]
    },
    {
     "cell_type": "code",
     "collapsed": false,
     "input": [
      "%pylab inline\n",
      "import numpy as np\n",
      "import os\n",
      "import sys\n",
      "os.chdir('/scratch/pzawadzk/amor_bulk_hf')\n",
      "!pwd"
     ],
     "language": "python",
     "metadata": {
      "slideshow": {
       "slide_type": "skip"
      }
     },
     "outputs": [
      {
       "output_type": "stream",
       "stream": "stdout",
       "text": [
        "Populating the interactive namespace from numpy and matplotlib\n",
        "/nopt/nrel/apps/epel/6.3/bin/sh: BASH_FUNC_module(): line 0: syntax error near unexpected token `)'\r\n",
        "/nopt/nrel/apps/epel/6.3/bin/sh: BASH_FUNC_module(): line 0: `BASH_FUNC_module() () {  eval `/nopt/Modules/$MODULE_VERSION/bin/modulecmd bash $*`'\r\n",
        "/nopt/nrel/apps/epel/6.3/bin/sh: error importing function definition for `BASH_FUNC_module'\r\n",
        "/scratch/pzawadzk/amor_bulk_hf\r\n"
       ]
      }
     ],
     "prompt_number": 1
    },
    {
     "cell_type": "code",
     "collapsed": false,
     "input": [
      "import os.path, time\n",
      "def conv_extract(path, dir1='vo'):\n",
      "    list_data = {}\n",
      "    dir1 = os.path.join(path, dir1)\n",
      "    if os.path.isdir(dir1):\n",
      "        for dir2 in os.listdir(dir1):\n",
      "            dir2 = os.path.join(dir1, dir2)\n",
      "            if os.path.isdir(dir2):\n",
      "                for dir3 in os.listdir(dir2):\n",
      "                    dir3 = os.path.join(dir2, dir3)\n",
      "                          \n",
      "                    if 'OUTCAR' in  os.listdir(dir3):\n",
      "                        stat = 'success'\n",
      "                    else:\n",
      "                        for i in range(5):\n",
      "                            if str(i) not in os.listdir(dir3):\n",
      "                                stat = str(i-1)\n",
      "                                break\n",
      "                    for root, dirs, files in os.walk(dir3):\n",
      "                        #print files\n",
      "                       \n",
      "                        if '.pylada_is_running' in files:\n",
      "                            stat += '_running_'\n",
      "                            stat += time.ctime(os.path.getmtime(root + '/.pylada_is_running'))\n",
      "                            break\n",
      "                    file_data = os.path.join(dir3, '0/accept_all.dat')\n",
      "                    if  os.path.exists(file_data):\n",
      "                        data = np.loadtxt(file_data)\n",
      "                        last_iter = data[-1]\n",
      "                    else:\n",
      "                        last_iter = -1\n",
      "                        data = None\n",
      "                        \n",
      "                    list_data[dir2]=[stat, last_iter, data ]\n",
      "    return list_data"
     ],
     "language": "python",
     "metadata": {},
     "outputs": [],
     "prompt_number": 2
    },
    {
     "cell_type": "code",
     "collapsed": false,
     "input": [
      "data_keys = os.listdir('.')\n",
      "#data_keys.remove('bulk')\n",
      "\n",
      "for dat_key in data_keys:\n",
      " if 'XTiS' in dat_key: #and 'X' in dat_key:\n",
      "    print '#####', dat_key\n",
      "    files = conv_extract(os.path.join('.',dat_key), dir1='bulk')\n",
      "    for key in sort(files.keys()):\n",
      "        print files[key][:-1], '\\t\\t',key\n",
      "        if files[key][0] == 'success':\n",
      "            dat = files[key][-1]\n",
      "            #fig = figure()\n",
      "            #plot(dat[:,0], dat[:,1], label = key)\n",
      "            #legend()\n",
      "                \n"
     ],
     "language": "python",
     "metadata": {},
     "outputs": [
      {
       "output_type": "stream",
       "stream": "stdout",
       "text": [
        "##### XTiS\n",
        "['0', array([ 98.     ,  -6.40103])]"
       ]
      },
      {
       "output_type": "stream",
       "stream": "stdout",
       "text": [
        " \t\t./XTiS/bulk/150_seed_1_par_A_0_B_50_T0\n",
        "['success', array([ 150.     ,   -6.41426])] \t\t./XTiS/bulk/150_seed_2_par_A_0_B_50_T0\n",
        "['success', array([ 150.     ,   -6.38573])] \t\t./XTiS/bulk/150_seed_3_par_A_0_B_50_T0\n",
        "['success', array([ 150.     ,   -6.41531])] \t\t./XTiS/bulk/150_seed_4_par_A_0_B_50_T0\n"
       ]
      }
     ],
     "prompt_number": 4
    },
    {
     "cell_type": "code",
     "collapsed": false,
     "input": [
      "data_keys"
     ],
     "language": "python",
     "metadata": {},
     "outputs": [
      {
       "metadata": {},
       "output_type": "pyout",
       "prompt_number": 9,
       "text": [
        "['MgZnO',\n",
        " 'not_finished',\n",
        " 'InGaO',\n",
        " 'ZnAlN',\n",
        " 'SnZnO',\n",
        " 'SnTiO',\n",
        " 'ZnGaO',\n",
        " 'ZnGaN',\n",
        " 'SnON',\n",
        " 'misc',\n",
        " 'template',\n",
        " '.=.swp',\n",
        " 'SbON',\n",
        " 'ZnInN',\n",
        " 'ZnInO',\n",
        " 'ZnBN',\n",
        " 'check_relax.py',\n",
        " 'CuSnN',\n",
        " 'conv_press_force']"
       ]
      }
     ],
     "prompt_number": 9
    },
    {
     "cell_type": "markdown",
     "metadata": {},
     "source": [
      "B N\n",
      "\n",
      "Al N, O, S\n",
      "\n",
      "In N, O, S\n",
      "\n",
      "Ga N, O, S\n",
      "\n",
      "Mg N, O, S\n",
      "\n",
      "Zn N, O, S\n",
      "\n",
      "Sn N, O, S\n",
      "\n",
      "Ti O\n",
      "\n",
      "Sb\n",
      "\n"
     ]
    },
    {
     "cell_type": "markdown",
     "metadata": {},
     "source": [
      "done\n",
      "\n",
      "N:\n",
      "\n",
      "\n",
      "\n",
      "O: Si\n",
      "\n",
      "\n",
      "\n",
      "S: Al"
     ]
    },
    {
     "cell_type": "code",
     "collapsed": false,
     "input": [],
     "language": "python",
     "metadata": {},
     "outputs": []
    }
   ],
   "metadata": {}
  }
 ]
}