{
 "metadata": {
  "name": "",
  "signature": "sha256:7581dfb69066b735076c2ed9aeae710ca1183eb2bb74f760d36a6a620591bba3"
 },
 "nbformat": 3,
 "nbformat_minor": 0,
 "worksheets": [
  {
   "cells": [
    {
     "cell_type": "code",
     "collapsed": false,
     "input": [
      "from pylada.vasp import Extract\n",
      "%pylab inline\n",
      "import hform\n",
      "import glob \n",
      "import os\n",
      "import pandas as pd\n",
      "from madelung import  get_lattice_energy\n",
      "from ase import io\n",
      "from scipy import stats \n",
      "from dist_func import calc_pdfs,  int_cn_from_pdfs, calc_adfs, get_cn"
     ],
     "language": "python",
     "metadata": {},
     "outputs": [
      {
       "output_type": "stream",
       "stream": "stdout",
       "text": [
        "Populating the interactive namespace from numpy and matplotlib\n"
       ]
      }
     ],
     "prompt_number": 1
    },
    {
     "cell_type": "markdown",
     "metadata": {},
     "source": [
      "/scratch/pzawadzk/amor/ZnInO/bulk/150_seed_4_par_A_0_B_30_T0/basin_hoping\n",
      "running volume relax"
     ]
    },
    {
     "cell_type": "code",
     "collapsed": false,
     "input": [
      "def get_energy(key, last = True):\n",
      "    E = []\n",
      "    U = []\n",
      "    if last:\n",
      "        paths = glob.glob('/scratch/pzawadzk/amor_bulk_hf/%s/bulk/*_B_0_*'%key)\n",
      "    else:\n",
      "        paths = glob.glob('/scratch/pzawadzk/amor_bulk_hf/%s/bulk/*_A_0_*'%key)\n",
      "    for path in paths:\n",
      "        try:\n",
      "            hf = hform.get_hform_single(os.path.join(path, 'basin_hoping'))  \n",
      "            #print path, hf\n",
      "            E.append(hf)\n",
      "            structure_ase = io.read(os.path.join(path, 'basin_hoping', 'OUTCAR'), format = 'vasp_out')\n",
      "            u = 0#get_lattice_energy(structure_ase, charge, Ng=[3, 3, 3], Nl=[1, 1, 1])\n",
      "            U.append(sum(u)/len(u))\n",
      "        except:\n",
      "            pass #print 'not able to Extract', path\n",
      "    return E, U"
     ],
     "language": "python",
     "metadata": {},
     "outputs": [],
     "prompt_number": 2
    },
    {
     "cell_type": "code",
     "collapsed": false,
     "input": [
      "elems = ['Al', 'Ga', 'In', 'Mg', 'Si', 'Sn', 'Zn', 'B', 'Ti']\n",
      "charge = {'Ti':4, 'B':3, 'Sn':4, 'Si':4, 'In':3, 'Ga':3, 'Zn':2, 'Mg':2, 'Al':3, 'O':-2, 'N':-3, 'S':-2}"
     ],
     "language": "python",
     "metadata": {},
     "outputs": [],
     "prompt_number": 3
    },
    {
     "cell_type": "code",
     "collapsed": false,
     "input": [
      "data = {\n",
      "        'SiO2': [['XSiO', False], ],\n",
      "        'SiS2': [['XSiS', False], ],\n",
      "        'Si3N4': [['XSiN', False], ],\n",
      "        #'TiO2': [['XTiO', False], ],\n",
      "        #'TiS2': [['XTiS', False], ],\n",
      "        'SnO2': [['XSnO', True], ],\n",
      "        'SnS2': [['XSnS', False], ],\n",
      "        'Sn3N4': [['XSnN', False], ],\n",
      "        'ZnO': [['XZnO', True], ],\n",
      "        'ZnS': [['XZnS', False], ],\n",
      "        'Zn3N2': [['XZnN', True], ],\n",
      "        'MgO': [['XMgO', False], ],\n",
      "        'MgS': [['XMgS', False], ],\n",
      "        'Mg3N2': [['XMgN', False], ],\n",
      "        'Ga2O3': [['XGaO', False], ],\n",
      "        'Ga2S3': [['XGaS', False], ],\n",
      "        'GaN': [['XGaN', False], ],\n",
      "        'In2O3': [['XInO', False], ],\n",
      "        'In2S3': [['XInS', False], ],\n",
      "        'InN': [['XInN', False], ],\n",
      "        'Al2O3': [['XAlO', False], ],\n",
      "        'Al2S3': [['XAlS', False], ],\n",
      "        'AlN': [['XAlN', False], ],\n",
      "        #'B2O3': [['XBO', False], ],\n",
      "        #'B2S3': [['XBS', False], ],\n",
      "        #'BN': [['XBN', False], ],\n",
      "        }"
     ],
     "language": "python",
     "metadata": {},
     "outputs": [],
     "prompt_number": 4
    },
    {
     "cell_type": "code",
     "collapsed": false,
     "input": [
      "read_csv=True"
     ],
     "language": "python",
     "metadata": {},
     "outputs": [],
     "prompt_number": 6
    },
    {
     "cell_type": "code",
     "collapsed": false,
     "input": [
      "len(data.keys())"
     ],
     "language": "python",
     "metadata": {},
     "outputs": [
      {
       "metadata": {},
       "output_type": "pyout",
       "prompt_number": 5,
       "text": [
        "21"
       ]
      }
     ],
     "prompt_number": 5
    },
    {
     "cell_type": "code",
     "collapsed": false,
     "input": [
      "if read_csv:\n",
      "    df = pd.DataFrame.from_csv('/home/pzawadzk/notebooks/amor/hform.csv')\n",
      "else:\n",
      "    df = pd.DataFrame(data).T\n",
      "    df['id'] = np.nan\n",
      "    df['type']=''\n",
      "    df['E']= np.nan\n",
      "    df['U']= np.nan\n",
      "    df['var05_E']= np.nan\n",
      "    df['E0']= np.nan\n",
      "    df['U0']= np.nan\n"
     ],
     "language": "python",
     "metadata": {},
     "outputs": [],
     "prompt_number": 7
    },
    {
     "cell_type": "code",
     "collapsed": false,
     "input": [
      "if read_csv == False:\n",
      "  for mat in sort(data.keys()):\n",
      "    print '#####', mat\n",
      "    bulk_path = '/scratch/pzawadzk/amor_bulk_hf/bulk/%s'%mat\n",
      "    E0 = hform.get_hform_single(bulk_path)\n",
      "    structure_ase = io.read(os.path.join(bulk_path, 'OUTCAR'), format = 'vasp_out')\n",
      "    \n",
      "    u = get_lattice_energy(structure_ase, charge, Ng=[3, 3, 3], Nl=[3, 3, 3])\n",
      "    U0 = sum(u)/len(u)\n",
      "    print U0\n",
      "    E = []\n",
      "    U = []\n",
      "    for elem in data[mat]:\n",
      "        e, u= get_energy(elem[0], elem[1])\n",
      "        E += e\n",
      "        U += u\n",
      "    dE = np.array(E)\n",
      "    dU = np.array(U)\n",
      "    print dU\n",
      "    \n",
      "    #print '%s\\t%.3f\\t%.3f' %( mat,  np.mean(dE), np.var(dE, ddof=1)**0.5)\n",
      "    comp_type = 'S'\n",
      "    if 'N' in mat: comp_type = 'N'\n",
      "    if 'O' in mat: comp_type = 'O'\n",
      "    df['type'][mat] = comp_type\n",
      "    \n",
      "    df['E'][mat] = np.mean(dE)\n",
      "    df['E0'][mat] = np.mean(E0)\n",
      "    \n",
      "    df['U0'][mat] = np.mean(U0)\n",
      "    df['U'][mat] = np.mean(dU)\n",
      "    \n",
      "    df['var05_E'][mat] = np.var(dE, ddof=1)**0.5\n",
      "  df.to_csv('/home/pzawadzk/notebooks/amor/hform.csv')"
     ],
     "language": "python",
     "metadata": {},
     "outputs": [
      {
       "output_type": "stream",
       "stream": "stdout",
       "text": [
        "##### Al2O3\n",
        "0"
       ]
      },
      {
       "output_type": "stream",
       "stream": "stdout",
       "text": [
        " -54.352104757\n",
        "1"
       ]
      },
      {
       "output_type": "stream",
       "stream": "stdout",
       "text": [
        " -54.3519364068\n",
        "2"
       ]
      },
      {
       "output_type": "stream",
       "stream": "stdout",
       "text": [
        " -54.3522139237\n",
        "3"
       ]
      },
      {
       "output_type": "stream",
       "stream": "stdout",
       "text": [
        " -54.3518832091\n",
        "4"
       ]
      },
      {
       "output_type": "stream",
       "stream": "stdout",
       "text": [
        " -26.1296115575\n",
        "5"
       ]
      },
      {
       "output_type": "stream",
       "stream": "stdout",
       "text": [
        " -26.1265468594\n",
        "6"
       ]
      },
      {
       "output_type": "stream",
       "stream": "stdout",
       "text": [
        " -26.1295442515\n",
        "7"
       ]
      },
      {
       "output_type": "stream",
       "stream": "stdout",
       "text": [
        " -26.1265594403\n",
        "8"
       ]
      },
      {
       "output_type": "stream",
       "stream": "stdout",
       "text": [
        " -26.1295361203\n",
        "9"
       ]
      },
      {
       "output_type": "stream",
       "stream": "stdout",
       "text": [
        " -26.1295986804\n",
        "-37.4179535206\n",
        "[]"
       ]
      },
      {
       "output_type": "stream",
       "stream": "stdout",
       "text": [
        "\n",
        "##### Al2S3\n",
        "0"
       ]
      },
      {
       "output_type": "stream",
       "stream": "stdout",
       "text": [
        " -40.1609508482\n",
        "1"
       ]
      },
      {
       "output_type": "stream",
       "stream": "stdout",
       "text": [
        " -40.1605787897\n",
        "2"
       ]
      },
      {
       "output_type": "stream",
       "stream": "stdout",
       "text": [
        " -40.1608354072\n",
        "3"
       ]
      },
      {
       "output_type": "stream",
       "stream": "stdout",
       "text": [
        " -40.1609163754\n",
        "4"
       ]
      },
      {
       "output_type": "stream",
       "stream": "stdout",
       "text": [
        " -40.1607414504\n",
        "5"
       ]
      },
      {
       "output_type": "stream",
       "stream": "stdout",
       "text": [
        " -40.1608143662\n",
        "6"
       ]
      },
      {
       "output_type": "stream",
       "stream": "stdout",
       "text": [
        " -40.0128775374\n",
        "7"
       ]
      },
      {
       "output_type": "stream",
       "stream": "stdout",
       "text": [
        " -40.0125846565\n",
        "8"
       ]
      },
      {
       "output_type": "stream",
       "stream": "stdout",
       "text": [
        " -40.0128580082\n",
        "9"
       ]
      },
      {
       "output_type": "stream",
       "stream": "stdout",
       "text": [
        " -40.0128470208\n",
        "10"
       ]
      },
      {
       "output_type": "stream",
       "stream": "stdout",
       "text": [
        " -40.0127201121\n",
        "11"
       ]
      },
      {
       "output_type": "stream",
       "stream": "stdout",
       "text": [
        " -40.0127879087\n",
        "12"
       ]
      },
      {
       "output_type": "stream",
       "stream": "stdout",
       "text": [
        " -20.8792992578\n",
        "13"
       ]
      },
      {
       "output_type": "stream",
       "stream": "stdout",
       "text": [
        " -20.8793117048\n",
        "14"
       ]
      },
      {
       "output_type": "stream",
       "stream": "stdout",
       "text": [
        " -20.8791618822\n",
        "15"
       ]
      },
      {
       "output_type": "stream",
       "stream": "stdout",
       "text": [
        " -20.8794017908\n",
        "16"
       ]
      },
      {
       "output_type": "stream",
       "stream": "stdout",
       "text": [
        " -20.8792074282\n",
        "17"
       ]
      },
      {
       "output_type": "stream",
       "stream": "stdout",
       "text": [
        " -20.879153749\n",
        "18"
       ]
      },
      {
       "output_type": "stream",
       "stream": "stdout",
       "text": [
        " -21.4139133234\n",
        "19"
       ]
      },
      {
       "output_type": "stream",
       "stream": "stdout",
       "text": [
        " -21.4138737769\n",
        "20"
       ]
      },
      {
       "output_type": "stream",
       "stream": "stdout",
       "text": [
        " -21.4138551337\n",
        "21"
       ]
      },
      {
       "output_type": "stream",
       "stream": "stdout",
       "text": [
        " -21.4139122327\n",
        "22"
       ]
      },
      {
       "output_type": "stream",
       "stream": "stdout",
       "text": [
        " -21.4138595672\n",
        "23"
       ]
      },
      {
       "output_type": "stream",
       "stream": "stdout",
       "text": [
        " -21.4138369949\n",
        "24"
       ]
      },
      {
       "output_type": "stream",
       "stream": "stdout",
       "text": [
        " -20.2723388935\n",
        "25"
       ]
      },
      {
       "output_type": "stream",
       "stream": "stdout",
       "text": [
        " -20.2724884589\n",
        "26"
       ]
      },
      {
       "output_type": "stream",
       "stream": "stdout",
       "text": [
        " -20.2725492811\n",
        "27"
       ]
      },
      {
       "output_type": "stream",
       "stream": "stdout",
       "text": [
        " -20.2723915807\n",
        "28"
       ]
      },
      {
       "output_type": "stream",
       "stream": "stdout",
       "text": [
        " -20.2724000088\n",
        "29"
       ]
      },
      {
       "output_type": "stream",
       "stream": "stdout",
       "text": [
        " -20.2726690795\n",
        "-28.5478378875\n",
        "[]"
       ]
      },
      {
       "output_type": "stream",
       "stream": "stdout",
       "text": [
        "\n",
        "##### AlN\n",
        "0"
       ]
      },
      {
       "output_type": "stream",
       "stream": "stdout",
       "text": [
        " -55.8742635418\n",
        "1"
       ]
      },
      {
       "output_type": "stream",
       "stream": "stdout",
       "text": [
        " -55.8744372723\n",
        "2"
       ]
      },
      {
       "output_type": "stream",
       "stream": "stdout",
       "text": [
        " -55.8742651899\n",
        "3"
       ]
      },
      {
       "output_type": "stream",
       "stream": "stdout",
       "text": [
        " -55.8744356351\n",
        "-55.8743504098\n",
        "[]"
       ]
      },
      {
       "output_type": "stream",
       "stream": "stdout",
       "text": [
        "\n",
        "##### Ga2O3\n",
        "0"
       ]
      },
      {
       "output_type": "stream",
       "stream": "stdout",
       "text": [
        " -51.4529026356\n",
        "1"
       ]
      },
      {
       "output_type": "stream",
       "stream": "stdout",
       "text": [
        " -51.4528920556\n",
        "2"
       ]
      },
      {
       "output_type": "stream",
       "stream": "stdout",
       "text": [
        " -52.6895099344\n",
        "3"
       ]
      },
      {
       "output_type": "stream",
       "stream": "stdout",
       "text": [
        " -52.6895095286\n",
        "4"
       ]
      },
      {
       "output_type": "stream",
       "stream": "stdout",
       "text": [
        " -52.6895435079\n",
        "5"
       ]
      },
      {
       "output_type": "stream",
       "stream": "stdout",
       "text": [
        " -52.689541591\n",
        "6"
       ]
      },
      {
       "output_type": "stream",
       "stream": "stdout",
       "text": [
        " -51.4528796699\n",
        "7"
       ]
      },
      {
       "output_type": "stream",
       "stream": "stdout",
       "text": [
        " -51.4528783271\n",
        "8"
       ]
      },
      {
       "output_type": "stream",
       "stream": "stdout",
       "text": [
        " -24.5779013842\n",
        "9"
       ]
      },
      {
       "output_type": "stream",
       "stream": "stdout",
       "text": [
        " -24.5779043074\n",
        "10"
       ]
      },
      {
       "output_type": "stream",
       "stream": "stdout",
       "text": [
        " -25.7597289557\n",
        "11"
       ]
      },
      {
       "output_type": "stream",
       "stream": "stdout",
       "text": [
        " -25.7597241811\n",
        "12"
       ]
      },
      {
       "output_type": "stream",
       "stream": "stdout",
       "text": [
        " -24.7646847106\n",
        "13"
       ]
      },
      {
       "output_type": "stream",
       "stream": "stdout",
       "text": [
        " -24.7646866964\n",
        "14"
       ]
      },
      {
       "output_type": "stream",
       "stream": "stdout",
       "text": [
        " -24.7647176902\n",
        "15"
       ]
      },
      {
       "output_type": "stream",
       "stream": "stdout",
       "text": [
        " -24.7647190389\n",
        "16"
       ]
      },
      {
       "output_type": "stream",
       "stream": "stdout",
       "text": [
        " -24.5778685582\n",
        "17"
       ]
      },
      {
       "output_type": "stream",
       "stream": "stdout",
       "text": [
        " -24.5778701941\n",
        "18"
       ]
      },
      {
       "output_type": "stream",
       "stream": "stdout",
       "text": [
        " -25.7597877964\n",
        "19"
       ]
      },
      {
       "output_type": "stream",
       "stream": "stdout",
       "text": [
        " -25.7597878779\n",
        "-35.8489519321\n",
        "[]"
       ]
      },
      {
       "output_type": "stream",
       "stream": "stdout",
       "text": [
        "\n",
        "##### Ga2S3\n",
        "0"
       ]
      },
      {
       "output_type": "stream",
       "stream": "stdout",
       "text": [
        " -39.5677557625\n",
        "1"
       ]
      },
      {
       "output_type": "stream",
       "stream": "stdout",
       "text": [
        " -39.5677571284\n",
        "2"
       ]
      },
      {
       "output_type": "stream",
       "stream": "stdout",
       "text": [
        " -38.9917602284\n",
        "3"
       ]
      },
      {
       "output_type": "stream",
       "stream": "stdout",
       "text": [
        " -38.9916993135\n",
        "4"
       ]
      },
      {
       "output_type": "stream",
       "stream": "stdout",
       "text": [
        " -18.6572767931\n",
        "5"
       ]
      },
      {
       "output_type": "stream",
       "stream": "stdout",
       "text": [
        " -18.657284133\n",
        "6"
       ]
      },
      {
       "output_type": "stream",
       "stream": "stdout",
       "text": [
        " -21.6757764244\n",
        "7"
       ]
      },
      {
       "output_type": "stream",
       "stream": "stdout",
       "text": [
        " -21.6757825564\n",
        "8"
       ]
      },
      {
       "output_type": "stream",
       "stream": "stdout",
       "text": [
        " -20.6465085531\n",
        "9"
       ]
      },
      {
       "output_type": "stream",
       "stream": "stdout",
       "text": [
        " -20.6465114416\n",
        "-27.9078112334\n",
        "[]"
       ]
      },
      {
       "output_type": "stream",
       "stream": "stdout",
       "text": [
        "\n",
        "##### GaN\n",
        "0"
       ]
      },
      {
       "output_type": "stream",
       "stream": "stdout",
       "text": [
        " -54.0608079075\n",
        "1"
       ]
      },
      {
       "output_type": "stream",
       "stream": "stdout",
       "text": [
        " -54.0606180091\n",
        "2"
       ]
      },
      {
       "output_type": "stream",
       "stream": "stdout",
       "text": [
        " -54.0606640849\n",
        "3"
       ]
      },
      {
       "output_type": "stream",
       "stream": "stdout",
       "text": [
        " -54.0607618313\n",
        "-54.0607129582\n",
        "[]"
       ]
      },
      {
       "output_type": "stream",
       "stream": "stdout",
       "text": [
        "\n",
        "##### In2O3\n",
        "0"
       ]
      },
      {
       "output_type": "stream",
       "stream": "stdout",
       "text": [
        " -47.879631396\n",
        "1"
       ]
      },
      {
       "output_type": "stream",
       "stream": "stdout",
       "text": [
        " -47.8796765261\n",
        "2"
       ]
      },
      {
       "output_type": "stream",
       "stream": "stdout",
       "text": [
        " -47.8699173131\n",
        "3"
       ]
      },
      {
       "output_type": "stream",
       "stream": "stdout",
       "text": [
        " -47.8798470371\n",
        "4"
       ]
      },
      {
       "output_type": "stream",
       "stream": "stdout",
       "text": [
        " -47.6102145741\n",
        "5"
       ]
      },
      {
       "output_type": "stream",
       "stream": "stdout",
       "text": [
        " -47.6032592693\n",
        "6"
       ]
      },
      {
       "output_type": "stream",
       "stream": "stdout",
       "text": [
        " -47.6033522631\n",
        "7"
       ]
      },
      {
       "output_type": "stream",
       "stream": "stdout",
       "text": [
        " -47.6031834145\n",
        "8"
       ]
      },
      {
       "output_type": "stream",
       "stream": "stdout",
       "text": [
        " -47.6101650236\n",
        "9"
       ]
      },
      {
       "output_type": "stream",
       "stream": "stdout",
       "text": [
        " -47.6099729397\n",
        "10"
       ]
      },
      {
       "output_type": "stream",
       "stream": "stdout",
       "text": [
        " -47.6028785292\n",
        "11"
       ]
      },
      {
       "output_type": "stream",
       "stream": "stdout",
       "text": [
        " -47.6097634661\n",
        "12"
       ]
      },
      {
       "output_type": "stream",
       "stream": "stdout",
       "text": [
        " -47.6095892879\n",
        "13"
       ]
      },
      {
       "output_type": "stream",
       "stream": "stdout",
       "text": [
        " -47.6096425911\n",
        "14"
       ]
      },
      {
       "output_type": "stream",
       "stream": "stdout",
       "text": [
        " -47.6026357409\n",
        "15"
       ]
      },
      {
       "output_type": "stream",
       "stream": "stdout",
       "text": [
        " -47.6029589242\n",
        "16"
       ]
      },
      {
       "output_type": "stream",
       "stream": "stdout",
       "text": [
        " -22.6101188949\n",
        "17"
       ]
      },
      {
       "output_type": "stream",
       "stream": "stdout",
       "text": [
        " -22.6120690177\n",
        "18"
       ]
      },
      {
       "output_type": "stream",
       "stream": "stdout",
       "text": [
        " -22.6142924032\n",
        "19"
       ]
      },
      {
       "output_type": "stream",
       "stream": "stdout",
       "text": [
        " -22.6142814558\n",
        "20"
       ]
      },
      {
       "output_type": "stream",
       "stream": "stdout",
       "text": [
        " -22.6101332556\n",
        "21"
       ]
      },
      {
       "output_type": "stream",
       "stream": "stdout",
       "text": [
        " -22.6120256207\n",
        "22"
       ]
      },
      {
       "output_type": "stream",
       "stream": "stdout",
       "text": [
        " -22.6093346777\n",
        "23"
       ]
      },
      {
       "output_type": "stream",
       "stream": "stdout",
       "text": [
        " -22.6093415322\n",
        "24"
       ]
      },
      {
       "output_type": "stream",
       "stream": "stdout",
       "text": [
        " -22.609463797\n",
        "25"
       ]
      },
      {
       "output_type": "stream",
       "stream": "stdout",
       "text": [
        " -22.6120995452\n",
        "26"
       ]
      },
      {
       "output_type": "stream",
       "stream": "stdout",
       "text": [
        " -22.6142788127\n",
        "27"
       ]
      },
      {
       "output_type": "stream",
       "stream": "stdout",
       "text": [
        " -22.6100703943\n",
        "28"
       ]
      },
      {
       "output_type": "stream",
       "stream": "stdout",
       "text": [
        " -22.6117708926\n",
        "29"
       ]
      },
      {
       "output_type": "stream",
       "stream": "stdout",
       "text": [
        " -22.6139063229\n",
        "30"
       ]
      },
      {
       "output_type": "stream",
       "stream": "stdout",
       "text": [
        " -22.6097594527\n",
        "31"
       ]
      },
      {
       "output_type": "stream",
       "stream": "stdout",
       "text": [
        " -22.6096225904\n",
        "32"
       ]
      },
      {
       "output_type": "stream",
       "stream": "stdout",
       "text": [
        " -22.6116437476\n",
        "33"
       ]
      },
      {
       "output_type": "stream",
       "stream": "stdout",
       "text": [
        " -22.6139255481\n",
        "34"
       ]
      },
      {
       "output_type": "stream",
       "stream": "stdout",
       "text": [
        " -22.608950728\n",
        "35"
       ]
      },
      {
       "output_type": "stream",
       "stream": "stdout",
       "text": [
        " -22.6089960338\n",
        "36"
       ]
      },
      {
       "output_type": "stream",
       "stream": "stdout",
       "text": [
        " -22.6090577377\n",
        "37"
       ]
      },
      {
       "output_type": "stream",
       "stream": "stdout",
       "text": [
        " -22.6138437808\n",
        "38"
       ]
      },
      {
       "output_type": "stream",
       "stream": "stdout",
       "text": [
        " -22.6097500465\n",
        "39"
       ]
      },
      {
       "output_type": "stream",
       "stream": "stdout",
       "text": [
        " -22.611637361\n",
        "-32.6364265486\n",
        "[]"
       ]
      },
      {
       "output_type": "stream",
       "stream": "stdout",
       "text": [
        "\n",
        "##### In2S3\n",
        "0"
       ]
      },
      {
       "output_type": "stream",
       "stream": "stdout",
       "text": [
        " -36.9673560824\n",
        "1"
       ]
      },
      {
       "output_type": "stream",
       "stream": "stdout",
       "text": [
        " -36.9672711961\n",
        "2"
       ]
      },
      {
       "output_type": "stream",
       "stream": "stdout",
       "text": [
        " -36.9678668866\n",
        "3"
       ]
      },
      {
       "output_type": "stream",
       "stream": "stdout",
       "text": [
        " -36.9679914803\n",
        "4"
       ]
      },
      {
       "output_type": "stream",
       "stream": "stdout",
       "text": [
        " -37.9913134405\n",
        "5"
       ]
      },
      {
       "output_type": "stream",
       "stream": "stdout",
       "text": [
        " -37.9912711601\n",
        "6"
       ]
      },
      {
       "output_type": "stream",
       "stream": "stdout",
       "text": [
        " -37.989107948\n",
        "7"
       ]
      },
      {
       "output_type": "stream",
       "stream": "stdout",
       "text": [
        " -37.9890663432\n",
        "8"
       ]
      },
      {
       "output_type": "stream",
       "stream": "stdout",
       "text": [
        " -37.9912310647\n",
        "9"
       ]
      },
      {
       "output_type": "stream",
       "stream": "stdout",
       "text": [
        " -37.9912860732\n",
        "10"
       ]
      },
      {
       "output_type": "stream",
       "stream": "stdout",
       "text": [
        " -37.9890428617\n",
        "11"
       ]
      },
      {
       "output_type": "stream",
       "stream": "stdout",
       "text": [
        " -37.9890313214\n",
        "12"
       ]
      },
      {
       "output_type": "stream",
       "stream": "stdout",
       "text": [
        " -38.2090033538\n",
        "13"
       ]
      },
      {
       "output_type": "stream",
       "stream": "stdout",
       "text": [
        " -38.2090212323\n",
        "14"
       ]
      },
      {
       "output_type": "stream",
       "stream": "stdout",
       "text": [
        " -38.2090631879\n",
        "15"
       ]
      },
      {
       "output_type": "stream",
       "stream": "stdout",
       "text": [
        " -38.2089945431\n",
        "16"
       ]
      },
      {
       "output_type": "stream",
       "stream": "stdout",
       "text": [
        " -20.7737450012\n",
        "17"
       ]
      },
      {
       "output_type": "stream",
       "stream": "stdout",
       "text": [
        " -20.7737305258\n",
        "18"
       ]
      },
      {
       "output_type": "stream",
       "stream": "stdout",
       "text": [
        " -20.7728279634\n",
        "19"
       ]
      },
      {
       "output_type": "stream",
       "stream": "stdout",
       "text": [
        " -20.7728657928\n",
        "20"
       ]
      },
      {
       "output_type": "stream",
       "stream": "stdout",
       "text": [
        " -20.7737665932\n",
        "21"
       ]
      },
      {
       "output_type": "stream",
       "stream": "stdout",
       "text": [
        " -20.7736996496\n",
        "22"
       ]
      },
      {
       "output_type": "stream",
       "stream": "stdout",
       "text": [
        " -20.7728978702\n",
        "23"
       ]
      },
      {
       "output_type": "stream",
       "stream": "stdout",
       "text": [
        " -20.7728575996\n",
        "24"
       ]
      },
      {
       "output_type": "stream",
       "stream": "stdout",
       "text": [
        " -17.2515334338\n",
        "25"
       ]
      },
      {
       "output_type": "stream",
       "stream": "stdout",
       "text": [
        " -17.2514722937\n",
        "26"
       ]
      },
      {
       "output_type": "stream",
       "stream": "stdout",
       "text": [
        " -17.2482586132\n",
        "27"
       ]
      },
      {
       "output_type": "stream",
       "stream": "stdout",
       "text": [
        " -17.2482263814\n",
        "28"
       ]
      },
      {
       "output_type": "stream",
       "stream": "stdout",
       "text": [
        " -17.2515624248\n",
        "29"
       ]
      },
      {
       "output_type": "stream",
       "stream": "stdout",
       "text": [
        " -17.2515664628\n",
        "30"
       ]
      },
      {
       "output_type": "stream",
       "stream": "stdout",
       "text": [
        " -17.2483424346\n",
        "31"
       ]
      },
      {
       "output_type": "stream",
       "stream": "stdout",
       "text": [
        " -17.2483030895\n",
        "32"
       ]
      },
      {
       "output_type": "stream",
       "stream": "stdout",
       "text": [
        " -19.4100282434\n",
        "33"
       ]
      },
      {
       "output_type": "stream",
       "stream": "stdout",
       "text": [
        " -19.4100906968\n",
        "34"
       ]
      },
      {
       "output_type": "stream",
       "stream": "stdout",
       "text": [
        " -19.4087717933\n",
        "35"
       ]
      },
      {
       "output_type": "stream",
       "stream": "stdout",
       "text": [
        " -19.4087870259\n",
        "36"
       ]
      },
      {
       "output_type": "stream",
       "stream": "stdout",
       "text": [
        " -19.4100690706\n",
        "37"
       ]
      },
      {
       "output_type": "stream",
       "stream": "stdout",
       "text": [
        " -19.4100230709\n",
        "38"
       ]
      },
      {
       "output_type": "stream",
       "stream": "stdout",
       "text": [
        " -19.4087228859\n",
        "39"
       ]
      },
      {
       "output_type": "stream",
       "stream": "stdout",
       "text": [
        " -19.4088280244\n",
        "-26.6022223779\n",
        "[]"
       ]
      },
      {
       "output_type": "stream",
       "stream": "stdout",
       "text": [
        "\n",
        "##### InN\n",
        "0"
       ]
      },
      {
       "output_type": "stream",
       "stream": "stdout",
       "text": [
        " -48.7005502877\n",
        "1"
       ]
      },
      {
       "output_type": "stream",
       "stream": "stdout",
       "text": [
        " -48.7005796292\n",
        "2"
       ]
      },
      {
       "output_type": "stream",
       "stream": "stdout",
       "text": [
        " -48.7005796284\n",
        "3"
       ]
      },
      {
       "output_type": "stream",
       "stream": "stdout",
       "text": [
        " -48.7005502872\n",
        "-48.7005649581\n",
        "[]"
       ]
      },
      {
       "output_type": "stream",
       "stream": "stdout",
       "text": [
        "\n",
        "##### Mg3N2\n",
        "0"
       ]
      },
      {
       "output_type": "stream",
       "stream": "stdout",
       "text": [
        " -23.1891939089\n",
        "1"
       ]
      },
      {
       "output_type": "stream",
       "stream": "stdout",
       "text": [
        " -23.1939794298\n",
        "2"
       ]
      },
      {
       "output_type": "stream",
       "stream": "stdout",
       "text": [
        " -23.191664346\n",
        "3"
       ]
      },
      {
       "output_type": "stream",
       "stream": "stdout",
       "text": [
        " -23.1890498959\n",
        "4"
       ]
      },
      {
       "output_type": "stream",
       "stream": "stdout",
       "text": [
        " -23.1890838389\n",
        "5"
       ]
      },
      {
       "output_type": "stream",
       "stream": "stdout",
       "text": [
        " -23.18991255\n",
        "6"
       ]
      },
      {
       "output_type": "stream",
       "stream": "stdout",
       "text": [
        " -23.1897644928\n",
        "7"
       ]
      },
      {
       "output_type": "stream",
       "stream": "stdout",
       "text": [
        " -23.1915303487\n",
        "8"
       ]
      },
      {
       "output_type": "stream",
       "stream": "stdout",
       "text": [
        " -23.1891375009\n",
        "9"
       ]
      },
      {
       "output_type": "stream",
       "stream": "stdout",
       "text": [
        " -23.1890861325\n",
        "10"
       ]
      },
      {
       "output_type": "stream",
       "stream": "stdout",
       "text": [
        " -23.1915188043\n",
        "11"
       ]
      },
      {
       "output_type": "stream",
       "stream": "stdout",
       "text": [
        " -23.1940822501\n",
        "12"
       ]
      },
      {
       "output_type": "stream",
       "stream": "stdout",
       "text": [
        " -23.1914287166\n",
        "13"
       ]
      },
      {
       "output_type": "stream",
       "stream": "stdout",
       "text": [
        " -23.194017966\n",
        "14"
       ]
      },
      {
       "output_type": "stream",
       "stream": "stdout",
       "text": [
        " -23.1897976883\n",
        "15"
       ]
      },
      {
       "output_type": "stream",
       "stream": "stdout",
       "text": [
        " -23.1940513038\n",
        "16"
       ]
      },
      {
       "output_type": "stream",
       "stream": "stdout",
       "text": [
        " -23.1890444365\n",
        "17"
       ]
      },
      {
       "output_type": "stream",
       "stream": "stdout",
       "text": [
        " -23.1899000182\n",
        "18"
       ]
      },
      {
       "output_type": "stream",
       "stream": "stdout",
       "text": [
        " -23.1941271448\n",
        "19"
       ]
      },
      {
       "output_type": "stream",
       "stream": "stdout",
       "text": [
        " -23.1897867026\n",
        "20"
       ]
      },
      {
       "output_type": "stream",
       "stream": "stdout",
       "text": [
        " -23.1915919393\n",
        "21"
       ]
      },
      {
       "output_type": "stream",
       "stream": "stdout",
       "text": [
        " -23.191635302\n",
        "22"
       ]
      },
      {
       "output_type": "stream",
       "stream": "stdout",
       "text": [
        " -23.1940578842\n",
        "23"
       ]
      },
      {
       "output_type": "stream",
       "stream": "stdout",
       "text": [
        " -23.1897639727\n",
        "24"
       ]
      },
      {
       "output_type": "stream",
       "stream": "stdout",
       "text": [
        " -49.0365198645\n",
        "25"
       ]
      },
      {
       "output_type": "stream",
       "stream": "stdout",
       "text": [
        " -49.03550025\n",
        "26"
       ]
      },
      {
       "output_type": "stream",
       "stream": "stdout",
       "text": [
        " -49.0296042798\n",
        "27"
       ]
      },
      {
       "output_type": "stream",
       "stream": "stdout",
       "text": [
        " -49.0296188259\n",
        "28"
       ]
      },
      {
       "output_type": "stream",
       "stream": "stdout",
       "text": [
        " -49.0295241439\n",
        "29"
       ]
      },
      {
       "output_type": "stream",
       "stream": "stdout",
       "text": [
        " -49.0462091248\n",
        "30"
       ]
      },
      {
       "output_type": "stream",
       "stream": "stdout",
       "text": [
        " -49.0365426439\n",
        "31"
       ]
      },
      {
       "output_type": "stream",
       "stream": "stdout",
       "text": [
        " -49.0463546081\n",
        "32"
       ]
      },
      {
       "output_type": "stream",
       "stream": "stdout",
       "text": [
        " -49.0295814653\n",
        "33"
       ]
      },
      {
       "output_type": "stream",
       "stream": "stdout",
       "text": [
        " -49.0366171253\n",
        "34"
       ]
      },
      {
       "output_type": "stream",
       "stream": "stdout",
       "text": [
        " -49.0295661992\n",
        "35"
       ]
      },
      {
       "output_type": "stream",
       "stream": "stdout",
       "text": [
        " -49.0296540313\n",
        "36"
       ]
      },
      {
       "output_type": "stream",
       "stream": "stdout",
       "text": [
        " -49.0365831008\n",
        "37"
       ]
      },
      {
       "output_type": "stream",
       "stream": "stdout",
       "text": [
        " -49.0365269655\n",
        "38"
       ]
      },
      {
       "output_type": "stream",
       "stream": "stdout",
       "text": [
        " -49.0462596873\n",
        "39"
       ]
      },
      {
       "output_type": "stream",
       "stream": "stdout",
       "text": [
        " -49.0365537336\n",
        "-33.5289605656\n",
        "[]"
       ]
      },
      {
       "output_type": "stream",
       "stream": "stdout",
       "text": [
        "\n",
        "##### MgO\n",
        "0"
       ]
      },
      {
       "output_type": "stream",
       "stream": "stdout",
       "text": [
        " -23.7557755193\n",
        "1"
       ]
      },
      {
       "output_type": "stream",
       "stream": "stdout",
       "text": [
        " -23.7557755193\n",
        "-23.7557755193\n",
        "[]"
       ]
      },
      {
       "output_type": "stream",
       "stream": "stdout",
       "text": [
        "\n",
        "##### MgS\n",
        "0"
       ]
      },
      {
       "output_type": "stream",
       "stream": "stdout",
       "text": [
        " -19.2563093306\n",
        "1"
       ]
      },
      {
       "output_type": "stream",
       "stream": "stdout",
       "text": [
        " -19.2563093306\n",
        "-19.2563093306\n",
        "[]"
       ]
      },
      {
       "output_type": "stream",
       "stream": "stdout",
       "text": [
        "\n",
        "##### Si3N4\n",
        "0"
       ]
      },
      {
       "output_type": "stream",
       "stream": "stdout",
       "text": [
        " -61.2169784881\n",
        "1"
       ]
      },
      {
       "output_type": "stream",
       "stream": "stdout",
       "text": [
        " -61.21680398\n",
        "2"
       ]
      },
      {
       "output_type": "stream",
       "stream": "stdout",
       "text": [
        " -61.6718773612\n",
        "3"
       ]
      },
      {
       "output_type": "stream",
       "stream": "stdout",
       "text": [
        " -61.6653770608\n",
        "4"
       ]
      },
      {
       "output_type": "stream",
       "stream": "stdout",
       "text": [
        " -61.6702322597\n",
        "5"
       ]
      },
      {
       "output_type": "stream",
       "stream": "stdout",
       "text": [
        " -61.6717769169\n",
        "6"
       ]
      },
      {
       "output_type": "stream",
       "stream": "stdout",
       "text": [
        " -61.6655333043\n",
        "7"
       ]
      },
      {
       "output_type": "stream",
       "stream": "stdout",
       "text": [
        " -61.6699110789\n",
        "8"
       ]
      },
      {
       "output_type": "stream",
       "stream": "stdout",
       "text": [
        " -100.692612963\n",
        "9"
       ]
      },
      {
       "output_type": "stream",
       "stream": "stdout",
       "text": [
        " -100.699890373\n",
        "10"
       ]
      },
      {
       "output_type": "stream",
       "stream": "stdout",
       "text": [
        " -100.689700937\n",
        "11"
       ]
      },
      {
       "output_type": "stream",
       "stream": "stdout",
       "text": [
        " -100.692387998\n",
        "12"
       ]
      },
      {
       "output_type": "stream",
       "stream": "stdout",
       "text": [
        " -100.699753896\n",
        "13"
       ]
      },
      {
       "output_type": "stream",
       "stream": "stdout",
       "text": [
        " -100.690039663\n",
        "-78.3294911628\n",
        "[]"
       ]
      },
      {
       "output_type": "stream",
       "stream": "stdout",
       "text": [
        "\n",
        "##### SiO2\n",
        "0"
       ]
      },
      {
       "output_type": "stream",
       "stream": "stdout",
       "text": [
        " -30.9747755464\n",
        "1"
       ]
      },
      {
       "output_type": "stream",
       "stream": "stdout",
       "text": [
        " -30.9716342878\n",
        "2"
       ]
      },
      {
       "output_type": "stream",
       "stream": "stdout",
       "text": [
        " -30.971107993\n",
        "3"
       ]
      },
      {
       "output_type": "stream",
       "stream": "stdout",
       "text": [
        " -30.9739031972\n",
        "4"
       ]
      },
      {
       "output_type": "stream",
       "stream": "stdout",
       "text": [
        " -95.2526733783\n",
        "5"
       ]
      },
      {
       "output_type": "stream",
       "stream": "stdout",
       "text": [
        " -95.2588749745\n",
        "-52.4004948962\n",
        "[]"
       ]
      },
      {
       "output_type": "stream",
       "stream": "stdout",
       "text": [
        "\n",
        "##### SiS2\n",
        "0"
       ]
      },
      {
       "output_type": "stream",
       "stream": "stdout",
       "text": [
        " -23.7425301612\n",
        "1"
       ]
      },
      {
       "output_type": "stream",
       "stream": "stdout",
       "text": [
        " -23.7426209718\n",
        "2"
       ]
      },
      {
       "output_type": "stream",
       "stream": "stdout",
       "text": [
        " -23.7417634513\n",
        "3"
       ]
      },
      {
       "output_type": "stream",
       "stream": "stdout",
       "text": [
        " -23.7415939661\n",
        "4"
       ]
      },
      {
       "output_type": "stream",
       "stream": "stdout",
       "text": [
        " -61.8546351486\n",
        "5"
       ]
      },
      {
       "output_type": "stream",
       "stream": "stdout",
       "text": [
        " -61.854635276\n",
        "-36.4462964958\n",
        "[]"
       ]
      },
      {
       "output_type": "stream",
       "stream": "stdout",
       "text": [
        "\n",
        "##### Sn3N4\n",
        "0"
       ]
      },
      {
       "output_type": "stream",
       "stream": "stdout",
       "text": [
        " -86.7907907317\n",
        "1"
       ]
      },
      {
       "output_type": "stream",
       "stream": "stdout",
       "text": [
        " -86.7982395511\n",
        "2"
       ]
      },
      {
       "output_type": "stream",
       "stream": "stdout",
       "text": [
        " -86.7907907317\n",
        "3"
       ]
      },
      {
       "output_type": "stream",
       "stream": "stdout",
       "text": [
        " -86.7907907317\n",
        "4"
       ]
      },
      {
       "output_type": "stream",
       "stream": "stdout",
       "text": [
        " -84.4957378796\n",
        "5"
       ]
      },
      {
       "output_type": "stream",
       "stream": "stdout",
       "text": [
        " -84.4956498867\n",
        "6"
       ]
      },
      {
       "output_type": "stream",
       "stream": "stdout",
       "text": [
        " -50.9765776031\n",
        "7"
       ]
      },
      {
       "output_type": "stream",
       "stream": "stdout",
       "text": [
        " -50.9815557384\n",
        "8"
       ]
      },
      {
       "output_type": "stream",
       "stream": "stdout",
       "text": [
        " -50.9815557384\n",
        "9"
       ]
      },
      {
       "output_type": "stream",
       "stream": "stdout",
       "text": [
        " -50.9815557384\n",
        "10"
       ]
      },
      {
       "output_type": "stream",
       "stream": "stdout",
       "text": [
        " -50.9818956111\n",
        "11"
       ]
      },
      {
       "output_type": "stream",
       "stream": "stdout",
       "text": [
        " -50.9818956111\n",
        "12"
       ]
      },
      {
       "output_type": "stream",
       "stream": "stdout",
       "text": [
        " -50.9818956111\n",
        "13"
       ]
      },
      {
       "output_type": "stream",
       "stream": "stdout",
       "text": [
        " -50.9768626473\n",
        "-66.0004138437\n",
        "[]"
       ]
      },
      {
       "output_type": "stream",
       "stream": "stdout",
       "text": [
        "\n",
        "##### SnO2\n",
        "0"
       ]
      },
      {
       "output_type": "stream",
       "stream": "stdout",
       "text": [
        " -84.1609496825\n",
        "1"
       ]
      },
      {
       "output_type": "stream",
       "stream": "stdout",
       "text": [
        " -84.1607113687\n",
        "2"
       ]
      },
      {
       "output_type": "stream",
       "stream": "stdout",
       "text": [
        " -24.1603745101\n",
        "3"
       ]
      },
      {
       "output_type": "stream",
       "stream": "stdout",
       "text": [
        " -24.1603607681\n",
        "4"
       ]
      },
      {
       "output_type": "stream",
       "stream": "stdout",
       "text": [
        " -24.1603545952\n",
        "5"
       ]
      },
      {
       "output_type": "stream",
       "stream": "stdout",
       "text": [
        " -24.1603545952\n",
        "-44.1605175866\n",
        "[]"
       ]
      },
      {
       "output_type": "stream",
       "stream": "stdout",
       "text": [
        "\n",
        "##### SnS2\n",
        "0"
       ]
      },
      {
       "output_type": "stream",
       "stream": "stdout",
       "text": [
        " -57.4199456979\n",
        "1"
       ]
      },
      {
       "output_type": "stream",
       "stream": "stdout",
       "text": [
        " -20.0404026691\n",
        "2"
       ]
      },
      {
       "output_type": "stream",
       "stream": "stdout",
       "text": [
        " -20.0404113978\n",
        "-32.5002532549\n",
        "[]"
       ]
      },
      {
       "output_type": "stream",
       "stream": "stdout",
       "text": [
        "\n",
        "##### Zn3N2\n",
        "0"
       ]
      },
      {
       "output_type": "stream",
       "stream": "stdout",
       "text": [
        " -23.5649694324\n",
        "1"
       ]
      },
      {
       "output_type": "stream",
       "stream": "stdout",
       "text": [
        " -23.5649412286\n",
        "2"
       ]
      },
      {
       "output_type": "stream",
       "stream": "stdout",
       "text": [
        " -23.5705010326\n",
        "3"
       ]
      },
      {
       "output_type": "stream",
       "stream": "stdout",
       "text": [
        " -23.5672460518\n",
        "4"
       ]
      },
      {
       "output_type": "stream",
       "stream": "stdout",
       "text": [
        " -23.5648830477\n",
        "5"
       ]
      },
      {
       "output_type": "stream",
       "stream": "stdout",
       "text": [
        " -23.5649736826\n",
        "6"
       ]
      },
      {
       "output_type": "stream",
       "stream": "stdout",
       "text": [
        " -23.5649376746\n",
        "7"
       ]
      },
      {
       "output_type": "stream",
       "stream": "stdout",
       "text": [
        " -23.5648942804\n",
        "8"
       ]
      },
      {
       "output_type": "stream",
       "stream": "stdout",
       "text": [
        " -23.5672403646\n",
        "9"
       ]
      },
      {
       "output_type": "stream",
       "stream": "stdout",
       "text": [
        " -23.5648106129\n",
        "10"
       ]
      },
      {
       "output_type": "stream",
       "stream": "stdout",
       "text": [
        " -23.5673510442\n",
        "11"
       ]
      },
      {
       "output_type": "stream",
       "stream": "stdout",
       "text": [
        " -23.5705358627\n",
        "12"
       ]
      },
      {
       "output_type": "stream",
       "stream": "stdout",
       "text": [
        " -23.567253903\n",
        "13"
       ]
      },
      {
       "output_type": "stream",
       "stream": "stdout",
       "text": [
        " -23.5704545781\n",
        "14"
       ]
      },
      {
       "output_type": "stream",
       "stream": "stdout",
       "text": [
        " -23.5704414909\n",
        "15"
       ]
      },
      {
       "output_type": "stream",
       "stream": "stdout",
       "text": [
        " -23.5648795577\n",
        "16"
       ]
      },
      {
       "output_type": "stream",
       "stream": "stdout",
       "text": [
        " -23.5650374063\n",
        "17"
       ]
      },
      {
       "output_type": "stream",
       "stream": "stdout",
       "text": [
        " -23.5649239639\n",
        "18"
       ]
      },
      {
       "output_type": "stream",
       "stream": "stdout",
       "text": [
        " -23.570435869\n",
        "19"
       ]
      },
      {
       "output_type": "stream",
       "stream": "stdout",
       "text": [
        " -23.567267965\n",
        "20"
       ]
      },
      {
       "output_type": "stream",
       "stream": "stdout",
       "text": [
        " -23.5671716125\n",
        "21"
       ]
      },
      {
       "output_type": "stream",
       "stream": "stdout",
       "text": [
        " -23.5705619849\n",
        "22"
       ]
      },
      {
       "output_type": "stream",
       "stream": "stdout",
       "text": [
        " -23.5649213837\n",
        "23"
       ]
      },
      {
       "output_type": "stream",
       "stream": "stdout",
       "text": [
        " -23.5647776222\n",
        "24"
       ]
      },
      {
       "output_type": "stream",
       "stream": "stdout",
       "text": [
        " -50.0911238279\n",
        "25"
       ]
      },
      {
       "output_type": "stream",
       "stream": "stdout",
       "text": [
        " -49.5210423599\n",
        "26"
       ]
      },
      {
       "output_type": "stream",
       "stream": "stdout",
       "text": [
        " -50.0837713424\n",
        "27"
       ]
      },
      {
       "output_type": "stream",
       "stream": "stdout",
       "text": [
        " -50.083715558\n",
        "28"
       ]
      },
      {
       "output_type": "stream",
       "stream": "stdout",
       "text": [
        " -50.0838963117\n",
        "29"
       ]
      },
      {
       "output_type": "stream",
       "stream": "stdout",
       "text": [
        " -50.0912243864\n",
        "30"
       ]
      },
      {
       "output_type": "stream",
       "stream": "stdout",
       "text": [
        " -49.5337787537\n",
        "31"
       ]
      },
      {
       "output_type": "stream",
       "stream": "stdout",
       "text": [
        " -49.5337080643\n",
        "32"
       ]
      },
      {
       "output_type": "stream",
       "stream": "stdout",
       "text": [
        " -50.0911700458\n",
        "33"
       ]
      },
      {
       "output_type": "stream",
       "stream": "stdout",
       "text": [
        " -50.083841929\n",
        "34"
       ]
      },
      {
       "output_type": "stream",
       "stream": "stdout",
       "text": [
        " -50.0838186989\n",
        "35"
       ]
      },
      {
       "output_type": "stream",
       "stream": "stdout",
       "text": [
        " -50.0837351679\n",
        "36"
       ]
      },
      {
       "output_type": "stream",
       "stream": "stdout",
       "text": [
        " -50.0912590421\n",
        "37"
       ]
      },
      {
       "output_type": "stream",
       "stream": "stdout",
       "text": [
        " -50.0911530333\n",
        "38"
       ]
      },
      {
       "output_type": "stream",
       "stream": "stdout",
       "text": [
        " -49.5336841506\n",
        "39"
       ]
      },
      {
       "output_type": "stream",
       "stream": "stdout",
       "text": [
        " -50.0912478684\n",
        "-34.1194395548\n",
        "[]"
       ]
      },
      {
       "output_type": "stream",
       "stream": "stdout",
       "text": [
        "\n",
        "##### ZnO\n",
        "0"
       ]
      },
      {
       "output_type": "stream",
       "stream": "stdout",
       "text": [
        " -23.5932341445\n",
        "1"
       ]
      },
      {
       "output_type": "stream",
       "stream": "stdout",
       "text": [
        " -23.5932004307\n",
        "2"
       ]
      },
      {
       "output_type": "stream",
       "stream": "stdout",
       "text": [
        " -23.593173851\n",
        "3"
       ]
      },
      {
       "output_type": "stream",
       "stream": "stdout",
       "text": [
        " -23.5932607246\n",
        "-23.5932172877\n",
        "[]"
       ]
      },
      {
       "output_type": "stream",
       "stream": "stdout",
       "text": [
        "\n",
        "##### ZnS\n",
        "0"
       ]
      },
      {
       "output_type": "stream",
       "stream": "stdout",
       "text": [
        " -20.0183820678\n",
        "1"
       ]
      },
      {
       "output_type": "stream",
       "stream": "stdout",
       "text": [
        " -20.0183820678\n",
        "-20.0183820678\n",
        "[]"
       ]
      },
      {
       "output_type": "stream",
       "stream": "stdout",
       "text": [
        "\n"
       ]
      }
     ],
     "prompt_number": 50
    },
    {
     "cell_type": "code",
     "collapsed": false,
     "input": [
      "pd.options.display.float_format = '{:,.2f}'.format\n",
      "for i, mat in enumerate(df.index): df['id'][mat]= elems.index(mat[:2])"
     ],
     "language": "python",
     "metadata": {},
     "outputs": [],
     "prompt_number": 51
    },
    {
     "cell_type": "code",
     "collapsed": false,
     "input": [
      "df['dEca'] = np.nan\n",
      "for i, mat in enumerate(df.index):\n",
      "    df['dEca'][mat] = df['E'][mat] - df['E0'][mat]"
     ],
     "language": "python",
     "metadata": {},
     "outputs": [],
     "prompt_number": 52
    },
    {
     "cell_type": "code",
     "collapsed": false,
     "input": [
      "oxides = df[df['type']=='O']\n",
      "nitrides = df[df['type']=='N']\n",
      "sulfides = df[df['type']=='S']"
     ],
     "language": "python",
     "metadata": {},
     "outputs": [],
     "prompt_number": 53
    },
    {
     "cell_type": "code",
     "collapsed": false,
     "input": [
      "df"
     ],
     "language": "python",
     "metadata": {},
     "outputs": [
      {
       "html": [
        "<div style=\"max-height:1000px;max-width:1500px;overflow:auto;\">\n",
        "<table border=\"1\" class=\"dataframe\">\n",
        "  <thead>\n",
        "    <tr style=\"text-align: right;\">\n",
        "      <th></th>\n",
        "      <th>0</th>\n",
        "      <th>id</th>\n",
        "      <th>type</th>\n",
        "      <th>E</th>\n",
        "      <th>U</th>\n",
        "      <th>var05_E</th>\n",
        "      <th>E0</th>\n",
        "      <th>U0</th>\n",
        "      <th>dEca</th>\n",
        "    </tr>\n",
        "  </thead>\n",
        "  <tbody>\n",
        "    <tr>\n",
        "      <th>Al2O3</th>\n",
        "      <td> [XAlO, False]</td>\n",
        "      <td>0.00</td>\n",
        "      <td> O</td>\n",
        "      <td>-3.22</td>\n",
        "      <td>nan</td>\n",
        "      <td>0.01</td>\n",
        "      <td>-3.44</td>\n",
        "      <td>-37.42</td>\n",
        "      <td>0.21</td>\n",
        "    </tr>\n",
        "    <tr>\n",
        "      <th>Al2S3</th>\n",
        "      <td> [XAlS, False]</td>\n",
        "      <td>0.00</td>\n",
        "      <td> S</td>\n",
        "      <td>-1.20</td>\n",
        "      <td>nan</td>\n",
        "      <td>0.04</td>\n",
        "      <td>-1.43</td>\n",
        "      <td>-28.55</td>\n",
        "      <td>0.23</td>\n",
        "    </tr>\n",
        "    <tr>\n",
        "      <th>AlN</th>\n",
        "      <td> [XAlN, False]</td>\n",
        "      <td>0.00</td>\n",
        "      <td> N</td>\n",
        "      <td>-1.24</td>\n",
        "      <td>nan</td>\n",
        "      <td>0.02</td>\n",
        "      <td>-1.69</td>\n",
        "      <td>-55.87</td>\n",
        "      <td>0.45</td>\n",
        "    </tr>\n",
        "    <tr>\n",
        "      <th>Ga2O3</th>\n",
        "      <td> [XGaO, False]</td>\n",
        "      <td>1.00</td>\n",
        "      <td> O</td>\n",
        "      <td>-2.08</td>\n",
        "      <td>nan</td>\n",
        "      <td>0.02</td>\n",
        "      <td>-2.25</td>\n",
        "      <td>-35.85</td>\n",
        "      <td>0.17</td>\n",
        "    </tr>\n",
        "    <tr>\n",
        "      <th>Ga2S3</th>\n",
        "      <td> [XGaS, False]</td>\n",
        "      <td>1.00</td>\n",
        "      <td> S</td>\n",
        "      <td>-0.74</td>\n",
        "      <td>nan</td>\n",
        "      <td>0.01</td>\n",
        "      <td>-1.01</td>\n",
        "      <td>-27.91</td>\n",
        "      <td>0.26</td>\n",
        "    </tr>\n",
        "    <tr>\n",
        "      <th>GaN</th>\n",
        "      <td> [XGaN, False]</td>\n",
        "      <td>1.00</td>\n",
        "      <td> N</td>\n",
        "      <td>-0.26</td>\n",
        "      <td>nan</td>\n",
        "      <td>0.02</td>\n",
        "      <td>-0.73</td>\n",
        "      <td>-54.06</td>\n",
        "      <td>0.47</td>\n",
        "    </tr>\n",
        "    <tr>\n",
        "      <th>In2O3</th>\n",
        "      <td> [XInO, False]</td>\n",
        "      <td>2.00</td>\n",
        "      <td> O</td>\n",
        "      <td>-1.68</td>\n",
        "      <td>nan</td>\n",
        "      <td>0.01</td>\n",
        "      <td>-1.90</td>\n",
        "      <td>-32.64</td>\n",
        "      <td>0.22</td>\n",
        "    </tr>\n",
        "    <tr>\n",
        "      <th>In2S3</th>\n",
        "      <td> [XInS, False]</td>\n",
        "      <td>2.00</td>\n",
        "      <td> S</td>\n",
        "      <td>-0.58</td>\n",
        "      <td>nan</td>\n",
        "      <td>0.02</td>\n",
        "      <td>-0.80</td>\n",
        "      <td>-26.60</td>\n",
        "      <td>0.22</td>\n",
        "    </tr>\n",
        "    <tr>\n",
        "      <th>InN</th>\n",
        "      <td> [XInN, False]</td>\n",
        "      <td>2.00</td>\n",
        "      <td> N</td>\n",
        "      <td> 0.36</td>\n",
        "      <td>nan</td>\n",
        "      <td>0.02</td>\n",
        "      <td>-0.04</td>\n",
        "      <td>-48.70</td>\n",
        "      <td>0.40</td>\n",
        "    </tr>\n",
        "    <tr>\n",
        "      <th>Mg3N2</th>\n",
        "      <td> [XMgN, False]</td>\n",
        "      <td>3.00</td>\n",
        "      <td> N</td>\n",
        "      <td>-0.84</td>\n",
        "      <td>nan</td>\n",
        "      <td>0.02</td>\n",
        "      <td>-1.05</td>\n",
        "      <td>-33.53</td>\n",
        "      <td>0.22</td>\n",
        "    </tr>\n",
        "    <tr>\n",
        "      <th>MgO</th>\n",
        "      <td> [XMgO, False]</td>\n",
        "      <td>3.00</td>\n",
        "      <td> O</td>\n",
        "      <td>-2.93</td>\n",
        "      <td>nan</td>\n",
        "      <td>0.09</td>\n",
        "      <td>-3.13</td>\n",
        "      <td>-23.76</td>\n",
        "      <td>0.20</td>\n",
        "    </tr>\n",
        "    <tr>\n",
        "      <th>MgS</th>\n",
        "      <td> [XMgS, False]</td>\n",
        "      <td>3.00</td>\n",
        "      <td> S</td>\n",
        "      <td>-1.57</td>\n",
        "      <td>nan</td>\n",
        "      <td>0.02</td>\n",
        "      <td>-1.80</td>\n",
        "      <td>-19.26</td>\n",
        "      <td>0.22</td>\n",
        "    </tr>\n",
        "    <tr>\n",
        "      <th>Si3N4</th>\n",
        "      <td> [XSiN, False]</td>\n",
        "      <td>4.00</td>\n",
        "      <td> N</td>\n",
        "      <td>-0.69</td>\n",
        "      <td>nan</td>\n",
        "      <td>0.02</td>\n",
        "      <td>-1.18</td>\n",
        "      <td>-78.33</td>\n",
        "      <td>0.49</td>\n",
        "    </tr>\n",
        "    <tr>\n",
        "      <th>SiO2</th>\n",
        "      <td> [XSiO, False]</td>\n",
        "      <td>4.00</td>\n",
        "      <td> O</td>\n",
        "      <td>-2.77</td>\n",
        "      <td>nan</td>\n",
        "      <td>0.08</td>\n",
        "      <td>-3.07</td>\n",
        "      <td>-52.40</td>\n",
        "      <td>0.30</td>\n",
        "    </tr>\n",
        "    <tr>\n",
        "      <th>SiS2</th>\n",
        "      <td> [XSiS, False]</td>\n",
        "      <td>4.00</td>\n",
        "      <td> S</td>\n",
        "      <td>-0.57</td>\n",
        "      <td>nan</td>\n",
        "      <td>0.01</td>\n",
        "      <td>-0.91</td>\n",
        "      <td>-36.45</td>\n",
        "      <td>0.34</td>\n",
        "    </tr>\n",
        "    <tr>\n",
        "      <th>Sn3N4</th>\n",
        "      <td> [XSnN, False]</td>\n",
        "      <td>5.00</td>\n",
        "      <td> N</td>\n",
        "      <td> 0.52</td>\n",
        "      <td>nan</td>\n",
        "      <td>0.02</td>\n",
        "      <td> 0.22</td>\n",
        "      <td>-66.00</td>\n",
        "      <td>0.30</td>\n",
        "    </tr>\n",
        "    <tr>\n",
        "      <th>SnO2</th>\n",
        "      <td>  [XSnO, True]</td>\n",
        "      <td>5.00</td>\n",
        "      <td> O</td>\n",
        "      <td>-1.61</td>\n",
        "      <td>nan</td>\n",
        "      <td>0.00</td>\n",
        "      <td>-1.87</td>\n",
        "      <td>-44.16</td>\n",
        "      <td>0.26</td>\n",
        "    </tr>\n",
        "    <tr>\n",
        "      <th>SnS2</th>\n",
        "      <td> [XSnS, False]</td>\n",
        "      <td>5.00</td>\n",
        "      <td> S</td>\n",
        "      <td>-0.33</td>\n",
        "      <td>nan</td>\n",
        "      <td>0.02</td>\n",
        "      <td>-0.53</td>\n",
        "      <td>-32.50</td>\n",
        "      <td>0.20</td>\n",
        "    </tr>\n",
        "    <tr>\n",
        "      <th>Zn3N2</th>\n",
        "      <td>  [XZnN, True]</td>\n",
        "      <td>6.00</td>\n",
        "      <td> N</td>\n",
        "      <td> 0.08</td>\n",
        "      <td>nan</td>\n",
        "      <td>0.02</td>\n",
        "      <td>-0.08</td>\n",
        "      <td>-34.12</td>\n",
        "      <td>0.16</td>\n",
        "    </tr>\n",
        "    <tr>\n",
        "      <th>ZnO</th>\n",
        "      <td>  [XZnO, True]</td>\n",
        "      <td>6.00</td>\n",
        "      <td> O</td>\n",
        "      <td>-1.56</td>\n",
        "      <td>nan</td>\n",
        "      <td>0.01</td>\n",
        "      <td>-1.77</td>\n",
        "      <td>-23.59</td>\n",
        "      <td>0.21</td>\n",
        "    </tr>\n",
        "    <tr>\n",
        "      <th>ZnS</th>\n",
        "      <td> [XZnS, False]</td>\n",
        "      <td>6.00</td>\n",
        "      <td> S</td>\n",
        "      <td>-0.79</td>\n",
        "      <td>nan</td>\n",
        "      <td>0.03</td>\n",
        "      <td>-1.09</td>\n",
        "      <td>-20.02</td>\n",
        "      <td>0.30</td>\n",
        "    </tr>\n",
        "  </tbody>\n",
        "</table>\n",
        "</div>"
       ],
       "metadata": {},
       "output_type": "pyout",
       "prompt_number": 54,
       "text": [
        "                   0   id type     E   U  var05_E    E0     U0  dEca\n",
        "Al2O3  [XAlO, False] 0.00    O -3.22 nan     0.01 -3.44 -37.42  0.21\n",
        "Al2S3  [XAlS, False] 0.00    S -1.20 nan     0.04 -1.43 -28.55  0.23\n",
        "AlN    [XAlN, False] 0.00    N -1.24 nan     0.02 -1.69 -55.87  0.45\n",
        "Ga2O3  [XGaO, False] 1.00    O -2.08 nan     0.02 -2.25 -35.85  0.17\n",
        "Ga2S3  [XGaS, False] 1.00    S -0.74 nan     0.01 -1.01 -27.91  0.26\n",
        "GaN    [XGaN, False] 1.00    N -0.26 nan     0.02 -0.73 -54.06  0.47\n",
        "In2O3  [XInO, False] 2.00    O -1.68 nan     0.01 -1.90 -32.64  0.22\n",
        "In2S3  [XInS, False] 2.00    S -0.58 nan     0.02 -0.80 -26.60  0.22\n",
        "InN    [XInN, False] 2.00    N  0.36 nan     0.02 -0.04 -48.70  0.40\n",
        "Mg3N2  [XMgN, False] 3.00    N -0.84 nan     0.02 -1.05 -33.53  0.22\n",
        "MgO    [XMgO, False] 3.00    O -2.93 nan     0.09 -3.13 -23.76  0.20\n",
        "MgS    [XMgS, False] 3.00    S -1.57 nan     0.02 -1.80 -19.26  0.22\n",
        "Si3N4  [XSiN, False] 4.00    N -0.69 nan     0.02 -1.18 -78.33  0.49\n",
        "SiO2   [XSiO, False] 4.00    O -2.77 nan     0.08 -3.07 -52.40  0.30\n",
        "SiS2   [XSiS, False] 4.00    S -0.57 nan     0.01 -0.91 -36.45  0.34\n",
        "Sn3N4  [XSnN, False] 5.00    N  0.52 nan     0.02  0.22 -66.00  0.30\n",
        "SnO2    [XSnO, True] 5.00    O -1.61 nan     0.00 -1.87 -44.16  0.26\n",
        "SnS2   [XSnS, False] 5.00    S -0.33 nan     0.02 -0.53 -32.50  0.20\n",
        "Zn3N2   [XZnN, True] 6.00    N  0.08 nan     0.02 -0.08 -34.12  0.16\n",
        "ZnO     [XZnO, True] 6.00    O -1.56 nan     0.01 -1.77 -23.59  0.21\n",
        "ZnS    [XZnS, False] 6.00    S -0.79 nan     0.03 -1.09 -20.02  0.30"
       ]
      }
     ],
     "prompt_number": 54
    },
    {
     "cell_type": "code",
     "collapsed": false,
     "input": [
      "nitrides"
     ],
     "language": "python",
     "metadata": {},
     "outputs": [
      {
       "html": [
        "<div style=\"max-height:1000px;max-width:1500px;overflow:auto;\">\n",
        "<table border=\"1\" class=\"dataframe\">\n",
        "  <thead>\n",
        "    <tr style=\"text-align: right;\">\n",
        "      <th></th>\n",
        "      <th>0</th>\n",
        "      <th>id</th>\n",
        "      <th>type</th>\n",
        "      <th>E</th>\n",
        "      <th>U</th>\n",
        "      <th>var05_E</th>\n",
        "      <th>E0</th>\n",
        "      <th>U0</th>\n",
        "      <th>dEca</th>\n",
        "    </tr>\n",
        "  </thead>\n",
        "  <tbody>\n",
        "    <tr>\n",
        "      <th>AlN</th>\n",
        "      <td> [XAlN, False]</td>\n",
        "      <td>0.00</td>\n",
        "      <td> N</td>\n",
        "      <td>-1.24</td>\n",
        "      <td>nan</td>\n",
        "      <td>0.02</td>\n",
        "      <td>-1.69</td>\n",
        "      <td>-55.87</td>\n",
        "      <td>0.45</td>\n",
        "    </tr>\n",
        "    <tr>\n",
        "      <th>GaN</th>\n",
        "      <td> [XGaN, False]</td>\n",
        "      <td>1.00</td>\n",
        "      <td> N</td>\n",
        "      <td>-0.26</td>\n",
        "      <td>nan</td>\n",
        "      <td>0.02</td>\n",
        "      <td>-0.73</td>\n",
        "      <td>-54.06</td>\n",
        "      <td>0.47</td>\n",
        "    </tr>\n",
        "    <tr>\n",
        "      <th>InN</th>\n",
        "      <td> [XInN, False]</td>\n",
        "      <td>2.00</td>\n",
        "      <td> N</td>\n",
        "      <td> 0.36</td>\n",
        "      <td>nan</td>\n",
        "      <td>0.02</td>\n",
        "      <td>-0.04</td>\n",
        "      <td>-48.70</td>\n",
        "      <td>0.40</td>\n",
        "    </tr>\n",
        "    <tr>\n",
        "      <th>Mg3N2</th>\n",
        "      <td> [XMgN, False]</td>\n",
        "      <td>3.00</td>\n",
        "      <td> N</td>\n",
        "      <td>-0.84</td>\n",
        "      <td>nan</td>\n",
        "      <td>0.02</td>\n",
        "      <td>-1.05</td>\n",
        "      <td>-33.53</td>\n",
        "      <td>0.22</td>\n",
        "    </tr>\n",
        "    <tr>\n",
        "      <th>Si3N4</th>\n",
        "      <td> [XSiN, False]</td>\n",
        "      <td>4.00</td>\n",
        "      <td> N</td>\n",
        "      <td>-0.69</td>\n",
        "      <td>nan</td>\n",
        "      <td>0.02</td>\n",
        "      <td>-1.18</td>\n",
        "      <td>-78.33</td>\n",
        "      <td>0.49</td>\n",
        "    </tr>\n",
        "    <tr>\n",
        "      <th>Sn3N4</th>\n",
        "      <td> [XSnN, False]</td>\n",
        "      <td>5.00</td>\n",
        "      <td> N</td>\n",
        "      <td> 0.52</td>\n",
        "      <td>nan</td>\n",
        "      <td>0.02</td>\n",
        "      <td> 0.22</td>\n",
        "      <td>-66.00</td>\n",
        "      <td>0.30</td>\n",
        "    </tr>\n",
        "    <tr>\n",
        "      <th>Zn3N2</th>\n",
        "      <td>  [XZnN, True]</td>\n",
        "      <td>6.00</td>\n",
        "      <td> N</td>\n",
        "      <td> 0.08</td>\n",
        "      <td>nan</td>\n",
        "      <td>0.02</td>\n",
        "      <td>-0.08</td>\n",
        "      <td>-34.12</td>\n",
        "      <td>0.16</td>\n",
        "    </tr>\n",
        "  </tbody>\n",
        "</table>\n",
        "</div>"
       ],
       "metadata": {},
       "output_type": "pyout",
       "prompt_number": 55,
       "text": [
        "                   0   id type     E   U  var05_E    E0     U0  dEca\n",
        "AlN    [XAlN, False] 0.00    N -1.24 nan     0.02 -1.69 -55.87  0.45\n",
        "GaN    [XGaN, False] 1.00    N -0.26 nan     0.02 -0.73 -54.06  0.47\n",
        "InN    [XInN, False] 2.00    N  0.36 nan     0.02 -0.04 -48.70  0.40\n",
        "Mg3N2  [XMgN, False] 3.00    N -0.84 nan     0.02 -1.05 -33.53  0.22\n",
        "Si3N4  [XSiN, False] 4.00    N -0.69 nan     0.02 -1.18 -78.33  0.49\n",
        "Sn3N4  [XSnN, False] 5.00    N  0.52 nan     0.02  0.22 -66.00  0.30\n",
        "Zn3N2   [XZnN, True] 6.00    N  0.08 nan     0.02 -0.08 -34.12  0.16"
       ]
      }
     ],
     "prompt_number": 55
    },
    {
     "cell_type": "code",
     "collapsed": true,
     "input": [
      "sulfides"
     ],
     "language": "python",
     "metadata": {},
     "outputs": [
      {
       "html": [
        "<div style=\"max-height:1000px;max-width:1500px;overflow:auto;\">\n",
        "<table border=\"1\" class=\"dataframe\">\n",
        "  <thead>\n",
        "    <tr style=\"text-align: right;\">\n",
        "      <th></th>\n",
        "      <th>0</th>\n",
        "      <th>id</th>\n",
        "      <th>type</th>\n",
        "      <th>E</th>\n",
        "      <th>U</th>\n",
        "      <th>var05_E</th>\n",
        "      <th>E0</th>\n",
        "      <th>U0</th>\n",
        "      <th>dEca</th>\n",
        "    </tr>\n",
        "  </thead>\n",
        "  <tbody>\n",
        "    <tr>\n",
        "      <th>Al2S3</th>\n",
        "      <td> [XAlS, False]</td>\n",
        "      <td>0.00</td>\n",
        "      <td> S</td>\n",
        "      <td>-1.20</td>\n",
        "      <td>nan</td>\n",
        "      <td>0.04</td>\n",
        "      <td>-1.43</td>\n",
        "      <td>-28.55</td>\n",
        "      <td>0.23</td>\n",
        "    </tr>\n",
        "    <tr>\n",
        "      <th>Ga2S3</th>\n",
        "      <td> [XGaS, False]</td>\n",
        "      <td>1.00</td>\n",
        "      <td> S</td>\n",
        "      <td>-0.74</td>\n",
        "      <td>nan</td>\n",
        "      <td>0.01</td>\n",
        "      <td>-1.01</td>\n",
        "      <td>-27.91</td>\n",
        "      <td>0.26</td>\n",
        "    </tr>\n",
        "    <tr>\n",
        "      <th>In2S3</th>\n",
        "      <td> [XInS, False]</td>\n",
        "      <td>2.00</td>\n",
        "      <td> S</td>\n",
        "      <td>-0.58</td>\n",
        "      <td>nan</td>\n",
        "      <td>0.02</td>\n",
        "      <td>-0.80</td>\n",
        "      <td>-26.60</td>\n",
        "      <td>0.22</td>\n",
        "    </tr>\n",
        "    <tr>\n",
        "      <th>MgS</th>\n",
        "      <td> [XMgS, False]</td>\n",
        "      <td>3.00</td>\n",
        "      <td> S</td>\n",
        "      <td>-1.57</td>\n",
        "      <td>nan</td>\n",
        "      <td>0.02</td>\n",
        "      <td>-1.80</td>\n",
        "      <td>-19.26</td>\n",
        "      <td>0.22</td>\n",
        "    </tr>\n",
        "    <tr>\n",
        "      <th>SiS2</th>\n",
        "      <td> [XSiS, False]</td>\n",
        "      <td>4.00</td>\n",
        "      <td> S</td>\n",
        "      <td>-0.57</td>\n",
        "      <td>nan</td>\n",
        "      <td>0.01</td>\n",
        "      <td>-0.91</td>\n",
        "      <td>-36.45</td>\n",
        "      <td>0.34</td>\n",
        "    </tr>\n",
        "    <tr>\n",
        "      <th>SnS2</th>\n",
        "      <td> [XSnS, False]</td>\n",
        "      <td>5.00</td>\n",
        "      <td> S</td>\n",
        "      <td>-0.33</td>\n",
        "      <td>nan</td>\n",
        "      <td>0.02</td>\n",
        "      <td>-0.53</td>\n",
        "      <td>-32.50</td>\n",
        "      <td>0.20</td>\n",
        "    </tr>\n",
        "    <tr>\n",
        "      <th>ZnS</th>\n",
        "      <td> [XZnS, False]</td>\n",
        "      <td>6.00</td>\n",
        "      <td> S</td>\n",
        "      <td>-0.79</td>\n",
        "      <td>nan</td>\n",
        "      <td>0.03</td>\n",
        "      <td>-1.09</td>\n",
        "      <td>-20.02</td>\n",
        "      <td>0.30</td>\n",
        "    </tr>\n",
        "  </tbody>\n",
        "</table>\n",
        "</div>"
       ],
       "metadata": {},
       "output_type": "pyout",
       "prompt_number": 56,
       "text": [
        "                   0   id type     E   U  var05_E    E0     U0  dEca\n",
        "Al2S3  [XAlS, False] 0.00    S -1.20 nan     0.04 -1.43 -28.55  0.23\n",
        "Ga2S3  [XGaS, False] 1.00    S -0.74 nan     0.01 -1.01 -27.91  0.26\n",
        "In2S3  [XInS, False] 2.00    S -0.58 nan     0.02 -0.80 -26.60  0.22\n",
        "MgS    [XMgS, False] 3.00    S -1.57 nan     0.02 -1.80 -19.26  0.22\n",
        "SiS2   [XSiS, False] 4.00    S -0.57 nan     0.01 -0.91 -36.45  0.34\n",
        "SnS2   [XSnS, False] 5.00    S -0.33 nan     0.02 -0.53 -32.50  0.20\n",
        "ZnS    [XZnS, False] 6.00    S -0.79 nan     0.03 -1.09 -20.02  0.30"
       ]
      }
     ],
     "prompt_number": 56
    },
    {
     "cell_type": "code",
     "collapsed": false,
     "input": [
      "oxides"
     ],
     "language": "python",
     "metadata": {},
     "outputs": [
      {
       "html": [
        "<div style=\"max-height:1000px;max-width:1500px;overflow:auto;\">\n",
        "<table border=\"1\" class=\"dataframe\">\n",
        "  <thead>\n",
        "    <tr style=\"text-align: right;\">\n",
        "      <th></th>\n",
        "      <th>0</th>\n",
        "      <th>id</th>\n",
        "      <th>type</th>\n",
        "      <th>E</th>\n",
        "      <th>U</th>\n",
        "      <th>var05_E</th>\n",
        "      <th>E0</th>\n",
        "      <th>U0</th>\n",
        "      <th>dEca</th>\n",
        "    </tr>\n",
        "  </thead>\n",
        "  <tbody>\n",
        "    <tr>\n",
        "      <th>Al2O3</th>\n",
        "      <td> [XAlO, False]</td>\n",
        "      <td>0.00</td>\n",
        "      <td> O</td>\n",
        "      <td>-3.22</td>\n",
        "      <td>nan</td>\n",
        "      <td>0.01</td>\n",
        "      <td>-3.44</td>\n",
        "      <td>-37.42</td>\n",
        "      <td>0.21</td>\n",
        "    </tr>\n",
        "    <tr>\n",
        "      <th>Ga2O3</th>\n",
        "      <td> [XGaO, False]</td>\n",
        "      <td>1.00</td>\n",
        "      <td> O</td>\n",
        "      <td>-2.08</td>\n",
        "      <td>nan</td>\n",
        "      <td>0.02</td>\n",
        "      <td>-2.25</td>\n",
        "      <td>-35.85</td>\n",
        "      <td>0.17</td>\n",
        "    </tr>\n",
        "    <tr>\n",
        "      <th>In2O3</th>\n",
        "      <td> [XInO, False]</td>\n",
        "      <td>2.00</td>\n",
        "      <td> O</td>\n",
        "      <td>-1.68</td>\n",
        "      <td>nan</td>\n",
        "      <td>0.01</td>\n",
        "      <td>-1.90</td>\n",
        "      <td>-32.64</td>\n",
        "      <td>0.22</td>\n",
        "    </tr>\n",
        "    <tr>\n",
        "      <th>MgO</th>\n",
        "      <td> [XMgO, False]</td>\n",
        "      <td>3.00</td>\n",
        "      <td> O</td>\n",
        "      <td>-2.93</td>\n",
        "      <td>nan</td>\n",
        "      <td>0.09</td>\n",
        "      <td>-3.13</td>\n",
        "      <td>-23.76</td>\n",
        "      <td>0.20</td>\n",
        "    </tr>\n",
        "    <tr>\n",
        "      <th>SiO2</th>\n",
        "      <td> [XSiO, False]</td>\n",
        "      <td>4.00</td>\n",
        "      <td> O</td>\n",
        "      <td>-2.77</td>\n",
        "      <td>nan</td>\n",
        "      <td>0.08</td>\n",
        "      <td>-3.07</td>\n",
        "      <td>-52.40</td>\n",
        "      <td>0.30</td>\n",
        "    </tr>\n",
        "    <tr>\n",
        "      <th>SnO2</th>\n",
        "      <td>  [XSnO, True]</td>\n",
        "      <td>5.00</td>\n",
        "      <td> O</td>\n",
        "      <td>-1.61</td>\n",
        "      <td>nan</td>\n",
        "      <td>0.00</td>\n",
        "      <td>-1.87</td>\n",
        "      <td>-44.16</td>\n",
        "      <td>0.26</td>\n",
        "    </tr>\n",
        "    <tr>\n",
        "      <th>ZnO</th>\n",
        "      <td>  [XZnO, True]</td>\n",
        "      <td>6.00</td>\n",
        "      <td> O</td>\n",
        "      <td>-1.56</td>\n",
        "      <td>nan</td>\n",
        "      <td>0.01</td>\n",
        "      <td>-1.77</td>\n",
        "      <td>-23.59</td>\n",
        "      <td>0.21</td>\n",
        "    </tr>\n",
        "  </tbody>\n",
        "</table>\n",
        "</div>"
       ],
       "metadata": {},
       "output_type": "pyout",
       "prompt_number": 57,
       "text": [
        "                   0   id type     E   U  var05_E    E0     U0  dEca\n",
        "Al2O3  [XAlO, False] 0.00    O -3.22 nan     0.01 -3.44 -37.42  0.21\n",
        "Ga2O3  [XGaO, False] 1.00    O -2.08 nan     0.02 -2.25 -35.85  0.17\n",
        "In2O3  [XInO, False] 2.00    O -1.68 nan     0.01 -1.90 -32.64  0.22\n",
        "MgO    [XMgO, False] 3.00    O -2.93 nan     0.09 -3.13 -23.76  0.20\n",
        "SiO2   [XSiO, False] 4.00    O -2.77 nan     0.08 -3.07 -52.40  0.30\n",
        "SnO2    [XSnO, True] 5.00    O -1.61 nan     0.00 -1.87 -44.16  0.26\n",
        "ZnO     [XZnO, True] 6.00    O -1.56 nan     0.01 -1.77 -23.59  0.21"
       ]
      }
     ],
     "prompt_number": 57
    },
    {
     "cell_type": "code",
     "collapsed": false,
     "input": [
      "coord_n = {u'Al2O3':[6,4], u'Al2S3':[4.5, 3], u'AlN':[4,4], u'Ga2O3':[5,3.3], u'Ga2S3':[4, 2.66], u'GaN':[4,4], u'In2O3':[4,6],\n",
      "           u'In2S3':[5.5, 3.66], u'Mg3N2':[6,4], u'MgO':[6,6], u'MgS':[6,6], u'Si3N4':[4,3], u'SiO2': [4,2], u'SiS2': [4,2],\n",
      "           u'Sn3N4':[5.33, 4], u'SnO2' : [6,3], u'SnS2':[6,3], u'ZnO':[4,4], u'ZnS':[4,4]}"
     ],
     "language": "python",
     "metadata": {},
     "outputs": [],
     "prompt_number": 58
    },
    {
     "cell_type": "code",
     "collapsed": false,
     "input": [
      "df['eps']= 15.0"
     ],
     "language": "python",
     "metadata": {},
     "outputs": [],
     "prompt_number": 59
    },
    {
     "cell_type": "code",
     "collapsed": false,
     "input": [
      "for mat in sort(data.keys()):\n",
      "    print '#####', mat\n",
      "    bulk_path = '/scratch/pzawadzk/amor_bulk_hf/bulk/%s/eps/OUTCAR'%mat\n",
      "    if 1:\n",
      "        calc = Extract(bulk_path)\n",
      "        ee = np.trace(calc.dielectric_constant)/3\n",
      "        ei = np.trace(calc.ionic_dielectric_constant)/3\n",
      "        print ee, ei\n",
      "        df['eps'][mat]= ee +ei\n",
      "        #df['MC'][mat], df['MC'][mat] = \n",
      "        cns= get_cn(calc.structure)\n",
      "        for key in cns.keys():\n",
      "            cn = np.dot(cns[key], range(15))/sum(cns[key])\n",
      "            print key, cn\n",
      "    #except:\n",
      "    #    print bulk_path\n",
      "        "
     ],
     "language": "python",
     "metadata": {},
     "outputs": [
      {
       "output_type": "stream",
       "stream": "stdout",
       "text": [
        "##### Al2O3\n",
        "10.5842033333"
       ]
      },
      {
       "output_type": "stream",
       "stream": "stdout",
       "text": [
        " 7.353994\n",
        "OO"
       ]
      },
      {
       "output_type": "stream",
       "stream": "stdout",
       "text": [
        " 8.0\n",
        "AlO 6.0\n",
        "OAl 4.0\n",
        "AlAl 1.0\n",
        "##### Al2S3\n",
        "8.772182"
       ]
      },
      {
       "output_type": "stream",
       "stream": "stdout",
       "text": [
        " 3.82378566667\n",
        "SS"
       ]
      },
      {
       "output_type": "stream",
       "stream": "stdout",
       "text": [
        " nan\n",
        "AlAl nan\n",
        "AlS 4.5\n",
        "SAl 3.0\n",
        "##### AlN\n",
        "8.71440966667"
       ]
      },
      {
       "output_type": "stream",
       "stream": "stdout",
       "text": [
        " 4.18255533333\n",
        "AlN"
       ]
      },
      {
       "output_type": "stream",
       "stream": "stdout",
       "text": [
        " 4.0\n",
        "AlAl nan\n",
        "NN nan\n",
        "NAl 4.0\n",
        "##### Ga2O3\n",
        "11.9609233333"
       ]
      },
      {
       "output_type": "stream",
       "stream": "stdout",
       "text": [
        " 7.82841133333\n",
        "GaO"
       ]
      },
      {
       "output_type": "stream",
       "stream": "stdout",
       "text": [
        " 5.0\n",
        "OGa 3.33333333333\n",
        "OO 2.0\n",
        "GaGa nan\n",
        "##### Ga2S3\n",
        "10.2324783333"
       ]
      },
      {
       "output_type": "stream",
       "stream": "stdout",
       "text": [
        " 4.320778\n",
        "SGa"
       ]
      },
      {
       "output_type": "stream",
       "stream": "stdout",
       "text": [
        " 2.66666666667\n",
        "GaS 4.0\n",
        "SS nan\n",
        "GaGa nan\n",
        "##### GaN\n",
        "10.7753696667"
       ]
      },
      {
       "output_type": "stream",
       "stream": "stdout",
       "text": [
        " 4.84827733333\n",
        "GaN"
       ]
      },
      {
       "output_type": "stream",
       "stream": "stdout",
       "text": [
        " 4.0\n",
        "GaGa nan\n",
        "NGa 4.0\n",
        "NN nan\n",
        "##### In2O3\n",
        "11.469847"
       ]
      },
      {
       "output_type": "stream",
       "stream": "stdout",
       "text": [
        " 6.46552566667\n",
        "InIn"
       ]
      },
      {
       "output_type": "stream",
       "stream": "stdout",
       "text": [
        " nan\n",
        "OIn 4.0\n",
        "InO 6.0\n",
        "OO nan\n",
        "##### In2S3\n",
        "14.8202576667"
       ]
      },
      {
       "output_type": "stream",
       "stream": "stdout",
       "text": [
        " 7.05659166667\n",
        "InIn"
       ]
      },
      {
       "output_type": "stream",
       "stream": "stdout",
       "text": [
        " nan\n",
        "SS nan\n",
        "SIn 3.66666666667\n",
        "InS 5.5\n",
        "##### InN\n",
        "1019.629976"
       ]
      },
      {
       "output_type": "stream",
       "stream": "stdout",
       "text": [
        " 10.997487\n",
        "InIn"
       ]
      },
      {
       "output_type": "stream",
       "stream": "stdout",
       "text": [
        " nan\n",
        "InN 4.0\n",
        "NIn 4.0\n",
        "NN nan\n",
        "##### Mg3N2\n",
        "10.9801923333"
       ]
      },
      {
       "output_type": "stream",
       "stream": "stdout",
       "text": [
        " 5.38786633333\n",
        "NMg"
       ]
      },
      {
       "output_type": "stream",
       "stream": "stdout",
       "text": [
        " 6.0\n",
        "MgMg 4.0\n",
        "MgN 4.0\n",
        "NN nan\n",
        "##### MgO\n",
        "10.6968066667"
       ]
      },
      {
       "output_type": "stream",
       "stream": "stdout",
       "text": [
        " 7.55945166667\n",
        "OMg"
       ]
      },
      {
       "output_type": "stream",
       "stream": "stdout",
       "text": [
        " 6.0\n",
        "MgO 6.0\n",
        "OO nan\n",
        "MgMg nan\n",
        "##### MgS\n",
        "16.8827156667"
       ]
      },
      {
       "output_type": "stream",
       "stream": "stdout",
       "text": [
        " 11.4990966667\n",
        "SS"
       ]
      },
      {
       "output_type": "stream",
       "stream": "stdout",
       "text": [
        " nan\n",
        "SMg 6.0\n",
        "MgMg nan\n",
        "MgS 6.0\n",
        "##### Si3N4\n",
        "8.08413366667"
       ]
      },
      {
       "output_type": "stream",
       "stream": "stdout",
       "text": [
        " 3.83534733333\n",
        "NSi"
       ]
      },
      {
       "output_type": "stream",
       "stream": "stdout",
       "text": [
        " 3.0\n",
        "SiSi nan\n",
        "SiN 4.0\n",
        "NN nan\n",
        "##### SiO2\n",
        "3.83696"
       ]
      },
      {
       "output_type": "stream",
       "stream": "stdout",
       "text": [
        " 1.669659\n",
        "OO"
       ]
      },
      {
       "output_type": "stream",
       "stream": "stdout",
       "text": [
        " 6.0\n",
        "OSi 2.0\n",
        "SiO 4.0\n",
        "SiSi nan\n",
        "##### SiS2\n",
        "4.18161066667"
       ]
      },
      {
       "output_type": "stream",
       "stream": "stdout",
       "text": [
        " 0.919751333333\n",
        "SS"
       ]
      },
      {
       "output_type": "stream",
       "stream": "stdout",
       "text": [
        " nan\n",
        "SiS 4.0\n",
        "SSi 2.0\n",
        "SiSi 2.0\n",
        "##### Sn3N4\n",
        "17.936147"
       ]
      },
      {
       "output_type": "stream",
       "stream": "stdout",
       "text": [
        " 8.647402\n",
        "SnSn"
       ]
      },
      {
       "output_type": "stream",
       "stream": "stdout",
       "text": [
        " nan\n",
        "SnN 5.33333333333\n",
        "NN nan\n",
        "NSn 4.0\n",
        "##### SnO2\n",
        "12.1838356667"
       ]
      },
      {
       "output_type": "stream",
       "stream": "stdout",
       "text": [
        " 7.467132\n",
        "SnSn"
       ]
      },
      {
       "output_type": "stream",
       "stream": "stdout",
       "text": [
        " nan\n",
        "SnO 6.0\n",
        "OO 1.0\n",
        "OSn 3.0\n",
        "##### SnS2\n",
        "13.577554"
       ]
      },
      {
       "output_type": "stream",
       "stream": "stdout",
       "text": [
        " 6.88415133333\n",
        "SnSn"
       ]
      },
      {
       "output_type": "stream",
       "stream": "stdout",
       "text": [
        " nan\n",
        "SS nan\n",
        "SSn 3.0\n",
        "SnS 6.0\n",
        "##### Zn3N2\n",
        "40.29274"
       ]
      },
      {
       "output_type": "stream",
       "stream": "stdout",
       "text": [
        " 22.298155\n",
        "ZnZn"
       ]
      },
      {
       "output_type": "stream",
       "stream": "stdout",
       "text": [
        " 4.0\n",
        "ZnN 4.0\n",
        "NN nan\n",
        "NZn 6.0\n",
        "##### ZnO\n",
        "10.8138233333"
       ]
      },
      {
       "output_type": "stream",
       "stream": "stdout",
       "text": [
        " 5.29726133333\n",
        "OZn"
       ]
      },
      {
       "output_type": "stream",
       "stream": "stdout",
       "text": [
        " 4.0\n",
        "ZnO 4.0\n",
        "OO nan\n",
        "ZnZn nan\n",
        "##### ZnS\n",
        "9.32361266667"
       ]
      },
      {
       "output_type": "stream",
       "stream": "stdout",
       "text": [
        " 3.41235866667\n",
        "ZnS"
       ]
      },
      {
       "output_type": "stream",
       "stream": "stdout",
       "text": [
        " 4.0\n",
        "SZn 4.0\n",
        "SS nan\n",
        "ZnZn nan\n"
       ]
      }
     ],
     "prompt_number": 60
    },
    {
     "cell_type": "code",
     "collapsed": false,
     "input": [
      "df"
     ],
     "language": "python",
     "metadata": {},
     "outputs": [
      {
       "html": [
        "<div style=\"max-height:1000px;max-width:1500px;overflow:auto;\">\n",
        "<table border=\"1\" class=\"dataframe\">\n",
        "  <thead>\n",
        "    <tr style=\"text-align: right;\">\n",
        "      <th></th>\n",
        "      <th>0</th>\n",
        "      <th>id</th>\n",
        "      <th>type</th>\n",
        "      <th>E</th>\n",
        "      <th>U</th>\n",
        "      <th>var05_E</th>\n",
        "      <th>E0</th>\n",
        "      <th>U0</th>\n",
        "      <th>dEca</th>\n",
        "      <th>eps</th>\n",
        "    </tr>\n",
        "  </thead>\n",
        "  <tbody>\n",
        "    <tr>\n",
        "      <th>Al2O3</th>\n",
        "      <td> [XAlO, False]</td>\n",
        "      <td>0.00</td>\n",
        "      <td> O</td>\n",
        "      <td>-3.22</td>\n",
        "      <td>nan</td>\n",
        "      <td>0.01</td>\n",
        "      <td>-3.44</td>\n",
        "      <td>-37.42</td>\n",
        "      <td>0.21</td>\n",
        "      <td>   17.94</td>\n",
        "    </tr>\n",
        "    <tr>\n",
        "      <th>Al2S3</th>\n",
        "      <td> [XAlS, False]</td>\n",
        "      <td>0.00</td>\n",
        "      <td> S</td>\n",
        "      <td>-1.20</td>\n",
        "      <td>nan</td>\n",
        "      <td>0.04</td>\n",
        "      <td>-1.43</td>\n",
        "      <td>-28.55</td>\n",
        "      <td>0.23</td>\n",
        "      <td>   12.60</td>\n",
        "    </tr>\n",
        "    <tr>\n",
        "      <th>AlN</th>\n",
        "      <td> [XAlN, False]</td>\n",
        "      <td>0.00</td>\n",
        "      <td> N</td>\n",
        "      <td>-1.24</td>\n",
        "      <td>nan</td>\n",
        "      <td>0.02</td>\n",
        "      <td>-1.69</td>\n",
        "      <td>-55.87</td>\n",
        "      <td>0.45</td>\n",
        "      <td>   12.90</td>\n",
        "    </tr>\n",
        "    <tr>\n",
        "      <th>Ga2O3</th>\n",
        "      <td> [XGaO, False]</td>\n",
        "      <td>1.00</td>\n",
        "      <td> O</td>\n",
        "      <td>-2.08</td>\n",
        "      <td>nan</td>\n",
        "      <td>0.02</td>\n",
        "      <td>-2.25</td>\n",
        "      <td>-35.85</td>\n",
        "      <td>0.17</td>\n",
        "      <td>   19.79</td>\n",
        "    </tr>\n",
        "    <tr>\n",
        "      <th>Ga2S3</th>\n",
        "      <td> [XGaS, False]</td>\n",
        "      <td>1.00</td>\n",
        "      <td> S</td>\n",
        "      <td>-0.74</td>\n",
        "      <td>nan</td>\n",
        "      <td>0.01</td>\n",
        "      <td>-1.01</td>\n",
        "      <td>-27.91</td>\n",
        "      <td>0.26</td>\n",
        "      <td>   14.55</td>\n",
        "    </tr>\n",
        "    <tr>\n",
        "      <th>GaN</th>\n",
        "      <td> [XGaN, False]</td>\n",
        "      <td>1.00</td>\n",
        "      <td> N</td>\n",
        "      <td>-0.26</td>\n",
        "      <td>nan</td>\n",
        "      <td>0.02</td>\n",
        "      <td>-0.73</td>\n",
        "      <td>-54.06</td>\n",
        "      <td>0.47</td>\n",
        "      <td>   15.62</td>\n",
        "    </tr>\n",
        "    <tr>\n",
        "      <th>In2O3</th>\n",
        "      <td> [XInO, False]</td>\n",
        "      <td>2.00</td>\n",
        "      <td> O</td>\n",
        "      <td>-1.68</td>\n",
        "      <td>nan</td>\n",
        "      <td>0.01</td>\n",
        "      <td>-1.90</td>\n",
        "      <td>-32.64</td>\n",
        "      <td>0.22</td>\n",
        "      <td>   17.94</td>\n",
        "    </tr>\n",
        "    <tr>\n",
        "      <th>In2S3</th>\n",
        "      <td> [XInS, False]</td>\n",
        "      <td>2.00</td>\n",
        "      <td> S</td>\n",
        "      <td>-0.58</td>\n",
        "      <td>nan</td>\n",
        "      <td>0.02</td>\n",
        "      <td>-0.80</td>\n",
        "      <td>-26.60</td>\n",
        "      <td>0.22</td>\n",
        "      <td>   21.88</td>\n",
        "    </tr>\n",
        "    <tr>\n",
        "      <th>InN</th>\n",
        "      <td> [XInN, False]</td>\n",
        "      <td>2.00</td>\n",
        "      <td> N</td>\n",
        "      <td> 0.36</td>\n",
        "      <td>nan</td>\n",
        "      <td>0.02</td>\n",
        "      <td>-0.04</td>\n",
        "      <td>-48.70</td>\n",
        "      <td>0.40</td>\n",
        "      <td>1,030.63</td>\n",
        "    </tr>\n",
        "    <tr>\n",
        "      <th>Mg3N2</th>\n",
        "      <td> [XMgN, False]</td>\n",
        "      <td>3.00</td>\n",
        "      <td> N</td>\n",
        "      <td>-0.84</td>\n",
        "      <td>nan</td>\n",
        "      <td>0.02</td>\n",
        "      <td>-1.05</td>\n",
        "      <td>-33.53</td>\n",
        "      <td>0.22</td>\n",
        "      <td>   16.37</td>\n",
        "    </tr>\n",
        "    <tr>\n",
        "      <th>MgO</th>\n",
        "      <td> [XMgO, False]</td>\n",
        "      <td>3.00</td>\n",
        "      <td> O</td>\n",
        "      <td>-2.93</td>\n",
        "      <td>nan</td>\n",
        "      <td>0.09</td>\n",
        "      <td>-3.13</td>\n",
        "      <td>-23.76</td>\n",
        "      <td>0.20</td>\n",
        "      <td>   18.26</td>\n",
        "    </tr>\n",
        "    <tr>\n",
        "      <th>MgS</th>\n",
        "      <td> [XMgS, False]</td>\n",
        "      <td>3.00</td>\n",
        "      <td> S</td>\n",
        "      <td>-1.57</td>\n",
        "      <td>nan</td>\n",
        "      <td>0.02</td>\n",
        "      <td>-1.80</td>\n",
        "      <td>-19.26</td>\n",
        "      <td>0.22</td>\n",
        "      <td>   28.38</td>\n",
        "    </tr>\n",
        "    <tr>\n",
        "      <th>Si3N4</th>\n",
        "      <td> [XSiN, False]</td>\n",
        "      <td>4.00</td>\n",
        "      <td> N</td>\n",
        "      <td>-0.69</td>\n",
        "      <td>nan</td>\n",
        "      <td>0.02</td>\n",
        "      <td>-1.18</td>\n",
        "      <td>-78.33</td>\n",
        "      <td>0.49</td>\n",
        "      <td>   11.92</td>\n",
        "    </tr>\n",
        "    <tr>\n",
        "      <th>SiO2</th>\n",
        "      <td> [XSiO, False]</td>\n",
        "      <td>4.00</td>\n",
        "      <td> O</td>\n",
        "      <td>-2.77</td>\n",
        "      <td>nan</td>\n",
        "      <td>0.08</td>\n",
        "      <td>-3.07</td>\n",
        "      <td>-52.40</td>\n",
        "      <td>0.30</td>\n",
        "      <td>    5.51</td>\n",
        "    </tr>\n",
        "    <tr>\n",
        "      <th>SiS2</th>\n",
        "      <td> [XSiS, False]</td>\n",
        "      <td>4.00</td>\n",
        "      <td> S</td>\n",
        "      <td>-0.57</td>\n",
        "      <td>nan</td>\n",
        "      <td>0.01</td>\n",
        "      <td>-0.91</td>\n",
        "      <td>-36.45</td>\n",
        "      <td>0.34</td>\n",
        "      <td>    5.10</td>\n",
        "    </tr>\n",
        "    <tr>\n",
        "      <th>Sn3N4</th>\n",
        "      <td> [XSnN, False]</td>\n",
        "      <td>5.00</td>\n",
        "      <td> N</td>\n",
        "      <td> 0.52</td>\n",
        "      <td>nan</td>\n",
        "      <td>0.02</td>\n",
        "      <td> 0.22</td>\n",
        "      <td>-66.00</td>\n",
        "      <td>0.30</td>\n",
        "      <td>   26.58</td>\n",
        "    </tr>\n",
        "    <tr>\n",
        "      <th>SnO2</th>\n",
        "      <td>  [XSnO, True]</td>\n",
        "      <td>5.00</td>\n",
        "      <td> O</td>\n",
        "      <td>-1.61</td>\n",
        "      <td>nan</td>\n",
        "      <td>0.00</td>\n",
        "      <td>-1.87</td>\n",
        "      <td>-44.16</td>\n",
        "      <td>0.26</td>\n",
        "      <td>   19.65</td>\n",
        "    </tr>\n",
        "    <tr>\n",
        "      <th>SnS2</th>\n",
        "      <td> [XSnS, False]</td>\n",
        "      <td>5.00</td>\n",
        "      <td> S</td>\n",
        "      <td>-0.33</td>\n",
        "      <td>nan</td>\n",
        "      <td>0.02</td>\n",
        "      <td>-0.53</td>\n",
        "      <td>-32.50</td>\n",
        "      <td>0.20</td>\n",
        "      <td>   20.46</td>\n",
        "    </tr>\n",
        "    <tr>\n",
        "      <th>Zn3N2</th>\n",
        "      <td>  [XZnN, True]</td>\n",
        "      <td>6.00</td>\n",
        "      <td> N</td>\n",
        "      <td> 0.08</td>\n",
        "      <td>nan</td>\n",
        "      <td>0.02</td>\n",
        "      <td>-0.08</td>\n",
        "      <td>-34.12</td>\n",
        "      <td>0.16</td>\n",
        "      <td>   62.59</td>\n",
        "    </tr>\n",
        "    <tr>\n",
        "      <th>ZnO</th>\n",
        "      <td>  [XZnO, True]</td>\n",
        "      <td>6.00</td>\n",
        "      <td> O</td>\n",
        "      <td>-1.56</td>\n",
        "      <td>nan</td>\n",
        "      <td>0.01</td>\n",
        "      <td>-1.77</td>\n",
        "      <td>-23.59</td>\n",
        "      <td>0.21</td>\n",
        "      <td>   16.11</td>\n",
        "    </tr>\n",
        "    <tr>\n",
        "      <th>ZnS</th>\n",
        "      <td> [XZnS, False]</td>\n",
        "      <td>6.00</td>\n",
        "      <td> S</td>\n",
        "      <td>-0.79</td>\n",
        "      <td>nan</td>\n",
        "      <td>0.03</td>\n",
        "      <td>-1.09</td>\n",
        "      <td>-20.02</td>\n",
        "      <td>0.30</td>\n",
        "      <td>   12.74</td>\n",
        "    </tr>\n",
        "  </tbody>\n",
        "</table>\n",
        "</div>"
       ],
       "metadata": {},
       "output_type": "pyout",
       "prompt_number": 61,
       "text": [
        "                   0   id type     E   U  var05_E    E0     U0  dEca      eps\n",
        "Al2O3  [XAlO, False] 0.00    O -3.22 nan     0.01 -3.44 -37.42  0.21    17.94\n",
        "Al2S3  [XAlS, False] 0.00    S -1.20 nan     0.04 -1.43 -28.55  0.23    12.60\n",
        "AlN    [XAlN, False] 0.00    N -1.24 nan     0.02 -1.69 -55.87  0.45    12.90\n",
        "Ga2O3  [XGaO, False] 1.00    O -2.08 nan     0.02 -2.25 -35.85  0.17    19.79\n",
        "Ga2S3  [XGaS, False] 1.00    S -0.74 nan     0.01 -1.01 -27.91  0.26    14.55\n",
        "GaN    [XGaN, False] 1.00    N -0.26 nan     0.02 -0.73 -54.06  0.47    15.62\n",
        "In2O3  [XInO, False] 2.00    O -1.68 nan     0.01 -1.90 -32.64  0.22    17.94\n",
        "In2S3  [XInS, False] 2.00    S -0.58 nan     0.02 -0.80 -26.60  0.22    21.88\n",
        "InN    [XInN, False] 2.00    N  0.36 nan     0.02 -0.04 -48.70  0.40 1,030.63\n",
        "Mg3N2  [XMgN, False] 3.00    N -0.84 nan     0.02 -1.05 -33.53  0.22    16.37\n",
        "MgO    [XMgO, False] 3.00    O -2.93 nan     0.09 -3.13 -23.76  0.20    18.26\n",
        "MgS    [XMgS, False] 3.00    S -1.57 nan     0.02 -1.80 -19.26  0.22    28.38\n",
        "Si3N4  [XSiN, False] 4.00    N -0.69 nan     0.02 -1.18 -78.33  0.49    11.92\n",
        "SiO2   [XSiO, False] 4.00    O -2.77 nan     0.08 -3.07 -52.40  0.30     5.51\n",
        "SiS2   [XSiS, False] 4.00    S -0.57 nan     0.01 -0.91 -36.45  0.34     5.10\n",
        "Sn3N4  [XSnN, False] 5.00    N  0.52 nan     0.02  0.22 -66.00  0.30    26.58\n",
        "SnO2    [XSnO, True] 5.00    O -1.61 nan     0.00 -1.87 -44.16  0.26    19.65\n",
        "SnS2   [XSnS, False] 5.00    S -0.33 nan     0.02 -0.53 -32.50  0.20    20.46\n",
        "Zn3N2   [XZnN, True] 6.00    N  0.08 nan     0.02 -0.08 -34.12  0.16    62.59\n",
        "ZnO     [XZnO, True] 6.00    O -1.56 nan     0.01 -1.77 -23.59  0.21    16.11\n",
        "ZnS    [XZnS, False] 6.00    S -0.79 nan     0.03 -1.09 -20.02  0.30    12.74"
       ]
      }
     ],
     "prompt_number": 61
    },
    {
     "cell_type": "code",
     "collapsed": false,
     "input": [
      "df2 = df[df['eps']<100]"
     ],
     "language": "python",
     "metadata": {},
     "outputs": [],
     "prompt_number": 62
    },
    {
     "cell_type": "code",
     "collapsed": false,
     "input": [
      "df2 = df2[df2.index != 'SiO2']"
     ],
     "language": "python",
     "metadata": {},
     "outputs": [],
     "prompt_number": 63
    },
    {
     "cell_type": "code",
     "collapsed": false,
     "input": [
      "df2"
     ],
     "language": "python",
     "metadata": {},
     "outputs": [
      {
       "html": [
        "<div style=\"max-height:1000px;max-width:1500px;overflow:auto;\">\n",
        "<table border=\"1\" class=\"dataframe\">\n",
        "  <thead>\n",
        "    <tr style=\"text-align: right;\">\n",
        "      <th></th>\n",
        "      <th>0</th>\n",
        "      <th>id</th>\n",
        "      <th>type</th>\n",
        "      <th>E</th>\n",
        "      <th>U</th>\n",
        "      <th>var05_E</th>\n",
        "      <th>E0</th>\n",
        "      <th>U0</th>\n",
        "      <th>dEca</th>\n",
        "      <th>eps</th>\n",
        "    </tr>\n",
        "  </thead>\n",
        "  <tbody>\n",
        "    <tr>\n",
        "      <th>Al2O3</th>\n",
        "      <td> [XAlO, False]</td>\n",
        "      <td>0.00</td>\n",
        "      <td> O</td>\n",
        "      <td>-3.22</td>\n",
        "      <td>nan</td>\n",
        "      <td>0.01</td>\n",
        "      <td>-3.44</td>\n",
        "      <td>-37.42</td>\n",
        "      <td>0.21</td>\n",
        "      <td>17.94</td>\n",
        "    </tr>\n",
        "    <tr>\n",
        "      <th>Al2S3</th>\n",
        "      <td> [XAlS, False]</td>\n",
        "      <td>0.00</td>\n",
        "      <td> S</td>\n",
        "      <td>-1.20</td>\n",
        "      <td>nan</td>\n",
        "      <td>0.04</td>\n",
        "      <td>-1.43</td>\n",
        "      <td>-28.55</td>\n",
        "      <td>0.23</td>\n",
        "      <td>12.60</td>\n",
        "    </tr>\n",
        "    <tr>\n",
        "      <th>AlN</th>\n",
        "      <td> [XAlN, False]</td>\n",
        "      <td>0.00</td>\n",
        "      <td> N</td>\n",
        "      <td>-1.24</td>\n",
        "      <td>nan</td>\n",
        "      <td>0.02</td>\n",
        "      <td>-1.69</td>\n",
        "      <td>-55.87</td>\n",
        "      <td>0.45</td>\n",
        "      <td>12.90</td>\n",
        "    </tr>\n",
        "    <tr>\n",
        "      <th>Ga2O3</th>\n",
        "      <td> [XGaO, False]</td>\n",
        "      <td>1.00</td>\n",
        "      <td> O</td>\n",
        "      <td>-2.08</td>\n",
        "      <td>nan</td>\n",
        "      <td>0.02</td>\n",
        "      <td>-2.25</td>\n",
        "      <td>-35.85</td>\n",
        "      <td>0.17</td>\n",
        "      <td>19.79</td>\n",
        "    </tr>\n",
        "    <tr>\n",
        "      <th>Ga2S3</th>\n",
        "      <td> [XGaS, False]</td>\n",
        "      <td>1.00</td>\n",
        "      <td> S</td>\n",
        "      <td>-0.74</td>\n",
        "      <td>nan</td>\n",
        "      <td>0.01</td>\n",
        "      <td>-1.01</td>\n",
        "      <td>-27.91</td>\n",
        "      <td>0.26</td>\n",
        "      <td>14.55</td>\n",
        "    </tr>\n",
        "    <tr>\n",
        "      <th>GaN</th>\n",
        "      <td> [XGaN, False]</td>\n",
        "      <td>1.00</td>\n",
        "      <td> N</td>\n",
        "      <td>-0.26</td>\n",
        "      <td>nan</td>\n",
        "      <td>0.02</td>\n",
        "      <td>-0.73</td>\n",
        "      <td>-54.06</td>\n",
        "      <td>0.47</td>\n",
        "      <td>15.62</td>\n",
        "    </tr>\n",
        "    <tr>\n",
        "      <th>In2O3</th>\n",
        "      <td> [XInO, False]</td>\n",
        "      <td>2.00</td>\n",
        "      <td> O</td>\n",
        "      <td>-1.68</td>\n",
        "      <td>nan</td>\n",
        "      <td>0.01</td>\n",
        "      <td>-1.90</td>\n",
        "      <td>-32.64</td>\n",
        "      <td>0.22</td>\n",
        "      <td>17.94</td>\n",
        "    </tr>\n",
        "    <tr>\n",
        "      <th>In2S3</th>\n",
        "      <td> [XInS, False]</td>\n",
        "      <td>2.00</td>\n",
        "      <td> S</td>\n",
        "      <td>-0.58</td>\n",
        "      <td>nan</td>\n",
        "      <td>0.02</td>\n",
        "      <td>-0.80</td>\n",
        "      <td>-26.60</td>\n",
        "      <td>0.22</td>\n",
        "      <td>21.88</td>\n",
        "    </tr>\n",
        "    <tr>\n",
        "      <th>Mg3N2</th>\n",
        "      <td> [XMgN, False]</td>\n",
        "      <td>3.00</td>\n",
        "      <td> N</td>\n",
        "      <td>-0.84</td>\n",
        "      <td>nan</td>\n",
        "      <td>0.02</td>\n",
        "      <td>-1.05</td>\n",
        "      <td>-33.53</td>\n",
        "      <td>0.22</td>\n",
        "      <td>16.37</td>\n",
        "    </tr>\n",
        "    <tr>\n",
        "      <th>MgO</th>\n",
        "      <td> [XMgO, False]</td>\n",
        "      <td>3.00</td>\n",
        "      <td> O</td>\n",
        "      <td>-2.93</td>\n",
        "      <td>nan</td>\n",
        "      <td>0.09</td>\n",
        "      <td>-3.13</td>\n",
        "      <td>-23.76</td>\n",
        "      <td>0.20</td>\n",
        "      <td>18.26</td>\n",
        "    </tr>\n",
        "    <tr>\n",
        "      <th>MgS</th>\n",
        "      <td> [XMgS, False]</td>\n",
        "      <td>3.00</td>\n",
        "      <td> S</td>\n",
        "      <td>-1.57</td>\n",
        "      <td>nan</td>\n",
        "      <td>0.02</td>\n",
        "      <td>-1.80</td>\n",
        "      <td>-19.26</td>\n",
        "      <td>0.22</td>\n",
        "      <td>28.38</td>\n",
        "    </tr>\n",
        "    <tr>\n",
        "      <th>Si3N4</th>\n",
        "      <td> [XSiN, False]</td>\n",
        "      <td>4.00</td>\n",
        "      <td> N</td>\n",
        "      <td>-0.69</td>\n",
        "      <td>nan</td>\n",
        "      <td>0.02</td>\n",
        "      <td>-1.18</td>\n",
        "      <td>-78.33</td>\n",
        "      <td>0.49</td>\n",
        "      <td>11.92</td>\n",
        "    </tr>\n",
        "    <tr>\n",
        "      <th>SiS2</th>\n",
        "      <td> [XSiS, False]</td>\n",
        "      <td>4.00</td>\n",
        "      <td> S</td>\n",
        "      <td>-0.57</td>\n",
        "      <td>nan</td>\n",
        "      <td>0.01</td>\n",
        "      <td>-0.91</td>\n",
        "      <td>-36.45</td>\n",
        "      <td>0.34</td>\n",
        "      <td> 5.10</td>\n",
        "    </tr>\n",
        "    <tr>\n",
        "      <th>Sn3N4</th>\n",
        "      <td> [XSnN, False]</td>\n",
        "      <td>5.00</td>\n",
        "      <td> N</td>\n",
        "      <td> 0.52</td>\n",
        "      <td>nan</td>\n",
        "      <td>0.02</td>\n",
        "      <td> 0.22</td>\n",
        "      <td>-66.00</td>\n",
        "      <td>0.30</td>\n",
        "      <td>26.58</td>\n",
        "    </tr>\n",
        "    <tr>\n",
        "      <th>SnO2</th>\n",
        "      <td>  [XSnO, True]</td>\n",
        "      <td>5.00</td>\n",
        "      <td> O</td>\n",
        "      <td>-1.61</td>\n",
        "      <td>nan</td>\n",
        "      <td>0.00</td>\n",
        "      <td>-1.87</td>\n",
        "      <td>-44.16</td>\n",
        "      <td>0.26</td>\n",
        "      <td>19.65</td>\n",
        "    </tr>\n",
        "    <tr>\n",
        "      <th>SnS2</th>\n",
        "      <td> [XSnS, False]</td>\n",
        "      <td>5.00</td>\n",
        "      <td> S</td>\n",
        "      <td>-0.33</td>\n",
        "      <td>nan</td>\n",
        "      <td>0.02</td>\n",
        "      <td>-0.53</td>\n",
        "      <td>-32.50</td>\n",
        "      <td>0.20</td>\n",
        "      <td>20.46</td>\n",
        "    </tr>\n",
        "    <tr>\n",
        "      <th>Zn3N2</th>\n",
        "      <td>  [XZnN, True]</td>\n",
        "      <td>6.00</td>\n",
        "      <td> N</td>\n",
        "      <td> 0.08</td>\n",
        "      <td>nan</td>\n",
        "      <td>0.02</td>\n",
        "      <td>-0.08</td>\n",
        "      <td>-34.12</td>\n",
        "      <td>0.16</td>\n",
        "      <td>62.59</td>\n",
        "    </tr>\n",
        "    <tr>\n",
        "      <th>ZnO</th>\n",
        "      <td>  [XZnO, True]</td>\n",
        "      <td>6.00</td>\n",
        "      <td> O</td>\n",
        "      <td>-1.56</td>\n",
        "      <td>nan</td>\n",
        "      <td>0.01</td>\n",
        "      <td>-1.77</td>\n",
        "      <td>-23.59</td>\n",
        "      <td>0.21</td>\n",
        "      <td>16.11</td>\n",
        "    </tr>\n",
        "    <tr>\n",
        "      <th>ZnS</th>\n",
        "      <td> [XZnS, False]</td>\n",
        "      <td>6.00</td>\n",
        "      <td> S</td>\n",
        "      <td>-0.79</td>\n",
        "      <td>nan</td>\n",
        "      <td>0.03</td>\n",
        "      <td>-1.09</td>\n",
        "      <td>-20.02</td>\n",
        "      <td>0.30</td>\n",
        "      <td>12.74</td>\n",
        "    </tr>\n",
        "  </tbody>\n",
        "</table>\n",
        "</div>"
       ],
       "metadata": {},
       "output_type": "pyout",
       "prompt_number": 64,
       "text": [
        "                   0   id type     E   U  var05_E    E0     U0  dEca   eps\n",
        "Al2O3  [XAlO, False] 0.00    O -3.22 nan     0.01 -3.44 -37.42  0.21 17.94\n",
        "Al2S3  [XAlS, False] 0.00    S -1.20 nan     0.04 -1.43 -28.55  0.23 12.60\n",
        "AlN    [XAlN, False] 0.00    N -1.24 nan     0.02 -1.69 -55.87  0.45 12.90\n",
        "Ga2O3  [XGaO, False] 1.00    O -2.08 nan     0.02 -2.25 -35.85  0.17 19.79\n",
        "Ga2S3  [XGaS, False] 1.00    S -0.74 nan     0.01 -1.01 -27.91  0.26 14.55\n",
        "GaN    [XGaN, False] 1.00    N -0.26 nan     0.02 -0.73 -54.06  0.47 15.62\n",
        "In2O3  [XInO, False] 2.00    O -1.68 nan     0.01 -1.90 -32.64  0.22 17.94\n",
        "In2S3  [XInS, False] 2.00    S -0.58 nan     0.02 -0.80 -26.60  0.22 21.88\n",
        "Mg3N2  [XMgN, False] 3.00    N -0.84 nan     0.02 -1.05 -33.53  0.22 16.37\n",
        "MgO    [XMgO, False] 3.00    O -2.93 nan     0.09 -3.13 -23.76  0.20 18.26\n",
        "MgS    [XMgS, False] 3.00    S -1.57 nan     0.02 -1.80 -19.26  0.22 28.38\n",
        "Si3N4  [XSiN, False] 4.00    N -0.69 nan     0.02 -1.18 -78.33  0.49 11.92\n",
        "SiS2   [XSiS, False] 4.00    S -0.57 nan     0.01 -0.91 -36.45  0.34  5.10\n",
        "Sn3N4  [XSnN, False] 5.00    N  0.52 nan     0.02  0.22 -66.00  0.30 26.58\n",
        "SnO2    [XSnO, True] 5.00    O -1.61 nan     0.00 -1.87 -44.16  0.26 19.65\n",
        "SnS2   [XSnS, False] 5.00    S -0.33 nan     0.02 -0.53 -32.50  0.20 20.46\n",
        "Zn3N2   [XZnN, True] 6.00    N  0.08 nan     0.02 -0.08 -34.12  0.16 62.59\n",
        "ZnO     [XZnO, True] 6.00    O -1.56 nan     0.01 -1.77 -23.59  0.21 16.11\n",
        "ZnS    [XZnS, False] 6.00    S -0.79 nan     0.03 -1.09 -20.02  0.30 12.74"
       ]
      }
     ],
     "prompt_number": 64
    },
    {
     "cell_type": "code",
     "collapsed": false,
     "input": [
      "x = df2['U0']/df2['eps']\n",
      "y = df2['E'] - df2['E0']"
     ],
     "language": "python",
     "metadata": {},
     "outputs": [],
     "prompt_number": 65
    },
    {
     "cell_type": "code",
     "collapsed": false,
     "input": [
      "y"
     ],
     "language": "python",
     "metadata": {},
     "outputs": [
      {
       "metadata": {},
       "output_type": "pyout",
       "prompt_number": 66,
       "text": [
        "Al2O3   0.21\n",
        "Al2S3   0.23\n",
        "AlN     0.45\n",
        "Ga2O3   0.17\n",
        "Ga2S3   0.26\n",
        "GaN     0.47\n",
        "In2O3   0.22\n",
        "In2S3   0.22\n",
        "Mg3N2   0.22\n",
        "MgO     0.20\n",
        "MgS     0.22\n",
        "Si3N4   0.49\n",
        "SiS2    0.34\n",
        "Sn3N4   0.30\n",
        "SnO2    0.26\n",
        "SnS2    0.20\n",
        "Zn3N2   0.16\n",
        "ZnO     0.21\n",
        "ZnS     0.30\n",
        "dtype: float64"
       ]
      }
     ],
     "prompt_number": 66
    },
    {
     "cell_type": "code",
     "collapsed": false,
     "input": [
      "col = []\n",
      "for id in y.index:\n",
      "    if 'O' in id: col.append('r')\n",
      "    elif 'N'in id: col.append('b')\n",
      "    else: col.append('y')\n"
     ],
     "language": "python",
     "metadata": {},
     "outputs": [],
     "prompt_number": 67
    },
    {
     "cell_type": "code",
     "collapsed": false,
     "input": [
      "slope, intercept, r_value, p_value, std_err = stats.linregress(x,y) \n",
      "print r_value"
     ],
     "language": "python",
     "metadata": {},
     "outputs": [
      {
       "output_type": "stream",
       "stream": "stdout",
       "text": [
        "-0.771043631514\n"
       ]
      }
     ],
     "prompt_number": 68
    },
    {
     "cell_type": "code",
     "collapsed": false,
     "input": [
      "oxides"
     ],
     "language": "python",
     "metadata": {},
     "outputs": [
      {
       "html": [
        "<div style=\"max-height:1000px;max-width:1500px;overflow:auto;\">\n",
        "<table border=\"1\" class=\"dataframe\">\n",
        "  <thead>\n",
        "    <tr style=\"text-align: right;\">\n",
        "      <th></th>\n",
        "      <th>0</th>\n",
        "      <th>id</th>\n",
        "      <th>type</th>\n",
        "      <th>E</th>\n",
        "      <th>U</th>\n",
        "      <th>var05_E</th>\n",
        "      <th>E0</th>\n",
        "      <th>U0</th>\n",
        "      <th>dEca</th>\n",
        "    </tr>\n",
        "  </thead>\n",
        "  <tbody>\n",
        "    <tr>\n",
        "      <th>Al2O3</th>\n",
        "      <td> [XAlO, False]</td>\n",
        "      <td>0.00</td>\n",
        "      <td> O</td>\n",
        "      <td>-3.22</td>\n",
        "      <td>nan</td>\n",
        "      <td>0.01</td>\n",
        "      <td>-3.44</td>\n",
        "      <td>-37.42</td>\n",
        "      <td>0.21</td>\n",
        "    </tr>\n",
        "    <tr>\n",
        "      <th>Ga2O3</th>\n",
        "      <td> [XGaO, False]</td>\n",
        "      <td>1.00</td>\n",
        "      <td> O</td>\n",
        "      <td>-2.08</td>\n",
        "      <td>nan</td>\n",
        "      <td>0.02</td>\n",
        "      <td>-2.25</td>\n",
        "      <td>-35.85</td>\n",
        "      <td>0.17</td>\n",
        "    </tr>\n",
        "    <tr>\n",
        "      <th>In2O3</th>\n",
        "      <td> [XInO, False]</td>\n",
        "      <td>2.00</td>\n",
        "      <td> O</td>\n",
        "      <td>-1.68</td>\n",
        "      <td>nan</td>\n",
        "      <td>0.01</td>\n",
        "      <td>-1.90</td>\n",
        "      <td>-32.64</td>\n",
        "      <td>0.22</td>\n",
        "    </tr>\n",
        "    <tr>\n",
        "      <th>MgO</th>\n",
        "      <td> [XMgO, False]</td>\n",
        "      <td>3.00</td>\n",
        "      <td> O</td>\n",
        "      <td>-2.93</td>\n",
        "      <td>nan</td>\n",
        "      <td>0.09</td>\n",
        "      <td>-3.13</td>\n",
        "      <td>-23.76</td>\n",
        "      <td>0.20</td>\n",
        "    </tr>\n",
        "    <tr>\n",
        "      <th>SiO2</th>\n",
        "      <td> [XSiO, False]</td>\n",
        "      <td>4.00</td>\n",
        "      <td> O</td>\n",
        "      <td>-2.77</td>\n",
        "      <td>nan</td>\n",
        "      <td>0.08</td>\n",
        "      <td>-3.07</td>\n",
        "      <td>-52.40</td>\n",
        "      <td>0.30</td>\n",
        "    </tr>\n",
        "    <tr>\n",
        "      <th>SnO2</th>\n",
        "      <td>  [XSnO, True]</td>\n",
        "      <td>5.00</td>\n",
        "      <td> O</td>\n",
        "      <td>-1.61</td>\n",
        "      <td>nan</td>\n",
        "      <td>0.00</td>\n",
        "      <td>-1.87</td>\n",
        "      <td>-44.16</td>\n",
        "      <td>0.26</td>\n",
        "    </tr>\n",
        "    <tr>\n",
        "      <th>ZnO</th>\n",
        "      <td>  [XZnO, True]</td>\n",
        "      <td>6.00</td>\n",
        "      <td> O</td>\n",
        "      <td>-1.56</td>\n",
        "      <td>nan</td>\n",
        "      <td>0.01</td>\n",
        "      <td>-1.77</td>\n",
        "      <td>-23.59</td>\n",
        "      <td>0.21</td>\n",
        "    </tr>\n",
        "  </tbody>\n",
        "</table>\n",
        "</div>"
       ],
       "metadata": {},
       "output_type": "pyout",
       "prompt_number": 69,
       "text": [
        "                   0   id type     E   U  var05_E    E0     U0  dEca\n",
        "Al2O3  [XAlO, False] 0.00    O -3.22 nan     0.01 -3.44 -37.42  0.21\n",
        "Ga2O3  [XGaO, False] 1.00    O -2.08 nan     0.02 -2.25 -35.85  0.17\n",
        "In2O3  [XInO, False] 2.00    O -1.68 nan     0.01 -1.90 -32.64  0.22\n",
        "MgO    [XMgO, False] 3.00    O -2.93 nan     0.09 -3.13 -23.76  0.20\n",
        "SiO2   [XSiO, False] 4.00    O -2.77 nan     0.08 -3.07 -52.40  0.30\n",
        "SnO2    [XSnO, True] 5.00    O -1.61 nan     0.00 -1.87 -44.16  0.26\n",
        "ZnO     [XZnO, True] 6.00    O -1.56 nan     0.01 -1.77 -23.59  0.21"
       ]
      }
     ],
     "prompt_number": 69
    },
    {
     "cell_type": "code",
     "collapsed": false,
     "input": [
      "ax = gca()\n",
      "for i in range(len(x)):\n",
      "    print i, col[i]\n",
      "   # plot (x[i], y[i], '+%s'%col[i])\n",
      "    ax.errorbar(x[i], y[i], yerr=df2['var05_E'][i], fmt='%so'%col[i])\n",
      "    print x.index[i]\n",
      "t = np.linspace(-10, 0, 10, )\n",
      "plot(t, t*slope + intercept, '--k', label = 'R2 = %.2f'%r_value**2)\n",
      "ax.errorbar( -52.40/5.51, 0.33, yerr=df['var05_E']['SiO2'], fmt='ro')#\n",
      "#ax.axis(xmin=-7, xmax=None, ymin = 0.1, ymax=0.6)\n",
      "ax.set_xlabel('Screened Madelung energy')\n",
      "ax.set_ylabel('Fromation energy wrt crystal')\n",
      "legend()"
     ],
     "language": "python",
     "metadata": {},
     "outputs": [
      {
       "output_type": "stream",
       "stream": "stdout",
       "text": [
        "0 r\n",
        "Al2O3\n",
        "1 y\n",
        "Al2S3\n",
        "2 b\n",
        "AlN\n",
        "3 r\n",
        "Ga2O3\n",
        "4 y\n",
        "Ga2S3\n",
        "5 b\n",
        "GaN\n",
        "6 r\n",
        "In2O3\n",
        "7 y\n",
        "In2S3\n",
        "8 b\n",
        "Mg3N2\n",
        "9 r\n",
        "MgO"
       ]
      },
      {
       "output_type": "stream",
       "stream": "stdout",
       "text": [
        "\n",
        "10 y\n",
        "MgS\n",
        "11 b\n",
        "Si3N4\n",
        "12 y\n",
        "SiS2\n",
        "13 b\n",
        "Sn3N4\n",
        "14 r\n",
        "SnO2\n",
        "15 y\n",
        "SnS2\n",
        "16 b\n",
        "Zn3N2\n",
        "17 r\n",
        "ZnO\n",
        "18 y\n",
        "ZnS\n"
       ]
      },
      {
       "metadata": {},
       "output_type": "pyout",
       "prompt_number": 70,
       "text": [
        "<matplotlib.legend.Legend at 0x7fbd22561c90>"
       ]
      },
      {
       "metadata": {},
       "output_type": "display_data",
       "png": "[encoded data removed]",
       "text": [
        "<matplotlib.figure.Figure at 0x7fbd22d4a0d0>"
       ]
      }
     ],
     "prompt_number": 70
    },
    {
     "cell_type": "code",
     "collapsed": false,
     "input": [
      "x = df['E0'] \n",
      "y = df['E']\n",
      "plot(x,y, '*')"
     ],
     "language": "python",
     "metadata": {},
     "outputs": [
      {
       "metadata": {},
       "output_type": "pyout",
       "prompt_number": 71,
       "text": [
        "[<matplotlib.lines.Line2D at 0x7fbd22db5f50>]"
       ]
      },
      {
       "metadata": {},
       "output_type": "display_data",
       "png": "[encoded data removed]",
       "text": [
        "<matplotlib.figure.Figure at 0x7fbd22d6a990>"
       ]
      }
     ],
     "prompt_number": 71
    }
   ],
   "metadata": {}
  }
 ]
}