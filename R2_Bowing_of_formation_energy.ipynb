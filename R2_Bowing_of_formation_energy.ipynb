{
 "metadata": {
  "name": "",
  "signature": "sha256:69f93588d8e5dda42dfb9a8aa7afb543563c984b1cfcccafe25c1387ee8c67f2"
 },
 "nbformat": 3,
 "nbformat_minor": 0,
 "worksheets": [
  {
   "cells": [
    {
     "cell_type": "markdown",
     "metadata": {},
     "source": [
      "## Bowing of formation energy of amorphous materials\n"
     ]
    },
    {
     "cell_type": "code",
     "collapsed": false,
     "input": [
      "%pylab inline\n",
      "import numpy as np\n",
      "import os\n",
      "import sys\n",
      "from ase import io\n",
      "import pickle\n",
      "from madelung import  get_lattice_energy\n",
      "from pylada.crystal import neighbors\n",
      "from tools import count_configurations_5\n",
      "from tools import *\n",
      "import re\n",
      "import pandas as pd"
     ],
     "language": "python",
     "metadata": {},
     "outputs": [
      {
       "output_type": "stream",
       "stream": "stdout",
       "text": [
        "Populating the interactive namespace from numpy and matplotlib\n"
       ]
      }
     ],
     "prompt_number": 1
    },
    {
     "cell_type": "code",
     "collapsed": false,
     "input": [
      "data_keys = [ 'ZnInO', 'ZnGaO', 'InGaO', ]\n",
      "data_keys = ['SnZnO', 'ZnInO', 'ZnGaO', 'InGaO', 'MgZnO', ]\n",
      "\n",
      "data_keys = os.listdir('/scratch/pzawadzk/amor')\n",
      "data_keys.remove('misc')\n",
      "\n",
      "data_keys.remove('not_finished')\n",
      "data_keys.remove('check_relax.py')\n",
      "#data_keys = [ 'ZnBN', 'ZnAlN', 'ZnGaN', 'ZnInN']"
     ],
     "language": "python",
     "metadata": {},
     "outputs": [],
     "prompt_number": 2
    },
    {
     "cell_type": "code",
     "collapsed": false,
     "input": [
      "\n",
      "for dat_key in data_keys:\n",
      "    #print '#####', dat_key\n",
      "    f = open('data/%s_data.pckl'%dat_key, 'r')\n",
      "    files = pickle.load(f)\n",
      "    f.close()\n",
      "\n",
      "    x = []\n",
      "    Ex = []\n",
      "    for key in sort(files.keys()):\n",
      "        E = 0\n",
      "        count = 0\n",
      "        [As, Bs, Cs] = re.findall('[A-Z][^A-Z]*', dat_key)\n",
      "        \n",
      "        for seed in files[key]:\n",
      "            A = seed[1][0]      \n",
      "            B = seed[1][1]\n",
      "            x0 = seed[1][2]\n",
      "            #print A+B\n",
      "            E += seed[3]\n",
      "            count += 1\n",
      "            #print x0, 1.0*A/(A+B)\n",
      "            #print A, seed[0], seed[3]\n",
      "        x.append(x0)\n",
      "        Ex.append(E/count)\n",
      "    if len(x)>0:\n",
      "        x, Ex = zip(*sorted(zip(x, Ex)))\n",
      "        fig = figure()\n",
      "        Ex = np.array(Ex)\n",
      "        x = np.array(x)\n",
      "        Ex -= Ex[0]\n",
      "        Ex -= x*Ex[-1]\n",
      "        plot(x, Ex, label = dat_key)\n",
      "        axis(xmin = 0, xmax = 1, ymin = -0.1, ymax=0.05)\n",
      "        legend()\n",
      "                "
     ],
     "language": "python",
     "metadata": {},
     "outputs": [
      {
       "ename": "IOError",
       "evalue": "[Errno 2] No such file or directory: 'data/MgZnO_data.pckl'",
       "output_type": "pyerr",
       "traceback": [
        "\u001b[1;31m---------------------------------------------------------------------------\u001b[0m\n\u001b[1;31mIOError\u001b[0m                                   Traceback (most recent call last)",
        "\u001b[1;32m<ipython-input-3-796e64bb2226>\u001b[0m in \u001b[0;36m<module>\u001b[1;34m()\u001b[0m\n\u001b[0;32m      2\u001b[0m \u001b[1;32mfor\u001b[0m \u001b[0mdat_key\u001b[0m \u001b[1;32min\u001b[0m \u001b[0mdata_keys\u001b[0m\u001b[1;33m:\u001b[0m\u001b[1;33m\u001b[0m\u001b[0m\n\u001b[0;32m      3\u001b[0m     \u001b[1;31m#print '#####', dat_key\u001b[0m\u001b[1;33m\u001b[0m\u001b[1;33m\u001b[0m\u001b[0m\n\u001b[1;32m----> 4\u001b[1;33m     \u001b[0mf\u001b[0m \u001b[1;33m=\u001b[0m \u001b[0mopen\u001b[0m\u001b[1;33m(\u001b[0m\u001b[1;34m'data/%s_data.pckl'\u001b[0m\u001b[1;33m%\u001b[0m\u001b[0mdat_key\u001b[0m\u001b[1;33m,\u001b[0m \u001b[1;34m'r'\u001b[0m\u001b[1;33m)\u001b[0m\u001b[1;33m\u001b[0m\u001b[0m\n\u001b[0m\u001b[0;32m      5\u001b[0m     \u001b[0mfiles\u001b[0m \u001b[1;33m=\u001b[0m \u001b[0mpickle\u001b[0m\u001b[1;33m.\u001b[0m\u001b[0mload\u001b[0m\u001b[1;33m(\u001b[0m\u001b[0mf\u001b[0m\u001b[1;33m)\u001b[0m\u001b[1;33m\u001b[0m\u001b[0m\n\u001b[0;32m      6\u001b[0m     \u001b[0mf\u001b[0m\u001b[1;33m.\u001b[0m\u001b[0mclose\u001b[0m\u001b[1;33m(\u001b[0m\u001b[1;33m)\u001b[0m\u001b[1;33m\u001b[0m\u001b[0m\n",
        "\u001b[1;31mIOError\u001b[0m: [Errno 2] No such file or directory: 'data/MgZnO_data.pckl'"
       ]
      }
     ],
     "prompt_number": 3
    },
    {
     "cell_type": "code",
     "collapsed": false,
     "input": [
      "df = pd.DataFrame.from_csv('/home/pzawadzk/notebooks/amor/hform.csv')\n",
      "df['dEca'] = np.nan\n",
      "for i, mat in enumerate(df.index):\n",
      "    df['dEca'][mat] = df['E'][mat] - df['E0'][mat]"
     ],
     "language": "python",
     "metadata": {},
     "outputs": []
    },
    {
     "cell_type": "raw",
     "metadata": {},
     "source": [
      "Converges of Ng, Nl\n",
      "Ng=[9, 9, 9], Nl=[3, 3, 3]\n",
      "0 -23.8514996132\n",
      "1 -25.5263403374\n",
      "Ng=[3, 3, 3], Nl=[1, 1, 1]\n",
      "0 -23.8527332506\n",
      "1 -25.5274324728\n",
      "\n",
      "1 meV/atom\n",
      "\n"
     ]
    },
    {
     "cell_type": "code",
     "collapsed": false,
     "input": [
      "col = ['k', 'b', 'r', 'm', 'g', 'c', 'y']*2\n",
      "#fig = figure()\n",
      "#ax = gca()\n",
      "mat = {'ZnGaN': 'GaN','ZnInN':'InN','ZnBN':'AlN', 'ZnAlN':'AlN'}\n",
      "\n",
      "for k, dat_key in enumerate(data_keys):\n",
      "  fig = figure()\n",
      "  ax = gca()\n",
      "  if 'swp' not in dat_key:\n",
      "    f = open('data/%s_data.pckl'%dat_key, 'r')\n",
      "    files = pickle.load(f)\n",
      "    f.close()\n",
      "    print '#####', dat_key, col[k]\n",
      "\n",
      "\n",
      "    Ex = []\n",
      "    Ux = []\n",
      "    xe = []\n",
      "    \n",
      "    yerr = []\n",
      "    Uyerr = []\n",
      "    E_all = []\n",
      "\n",
      "    x_all =[]\n",
      "    for key in sort(files.keys()):\n",
      "        Es = []\n",
      "\n",
      "        for seed in files[key]:\n",
      "            #print seed\n",
      "            A = seed[1][0]       \n",
      "            B = seed[1][1]  \n",
      "            x0 = seed[1][2]\n",
      "            Es.append(seed[3])\n",
      "           \n",
      "        xe.append(x0)\n",
      "        Ex.append(np.mean(Es))\n",
      "        \n",
      "        yerr.append(np.std(Es))\n",
      "        \n",
      "        print x0, Es, np.std(Es)\n",
      "        \n",
      "        \n",
      "    if len(x)>0:\n",
      "        xs, Ex = zip(*sorted(zip(xe, Ex)))\n",
      "   \n",
      "        xs, xe = zip(*sorted(zip(xe, xe)))\n",
      "        \n",
      "        \n",
      "        xs = np.array(xs)\n",
      "        Ex = np.array(Ex)\n",
      "        print Ex[0]\n",
      "        Ebn = Ex[0]+35.132894/4\n",
      "        print '!!!!', Ebn\n",
      "        Ex -= Ex[0]\n",
      "        Ex -= xs*Ex[-1]\n",
      "        try:\n",
      "\n",
      "           # Ex += xs*( df['dEca']['Zn3N2'] - Ebn ) + Ebn\n",
      "            Ex += xs*( df['dEca']['Zn3N2'] - df['dEca'][dat_key[2:]] ) + df['dEca'][dat_key[2:]]\n",
      "        except:\n",
      "            pass\n",
      "        print Ex, xs\n",
      "        plot(xs, Ex, '-%s'%col[k], label = dat_key, linewidth=4)\n",
      "        ax.errorbar(xs, Ex, yerr=yerr, fmt='%so'%col[k])\n",
      "        \n",
      "    ax.legend()#loc='center left', bbox_to_anchor=(1, 0.5))\n",
      "\n",
      "    \n",
      "    ax.set_ylabel(r'$ \\Delta_m H^{\\mathrm{DFT}}$ [eV/atom]', fontsize=20)\n",
      "    ax.set_xlabel(r'x[A/(A+B)]', fontsize=20)\n",
      "    #axis(xmin = -0.05, xmax = 1.05, ymin = -0.100, ymax=0.100)\n"
     ],
     "language": "python",
     "metadata": {},
     "outputs": [
      {
       "ename": "IOError",
       "evalue": "[Errno 2] No such file or directory: 'data/MgZnO_data.pckl'",
       "output_type": "pyerr",
       "traceback": [
        "\u001b[1;31m---------------------------------------------------------------------------\u001b[0m\n\u001b[1;31mIOError\u001b[0m                                   Traceback (most recent call last)",
        "\u001b[1;32m<ipython-input-4-21159c3f4916>\u001b[0m in \u001b[0;36m<module>\u001b[1;34m()\u001b[0m\n\u001b[0;32m      8\u001b[0m   \u001b[0max\u001b[0m \u001b[1;33m=\u001b[0m \u001b[0mgca\u001b[0m\u001b[1;33m(\u001b[0m\u001b[1;33m)\u001b[0m\u001b[1;33m\u001b[0m\u001b[0m\n\u001b[0;32m      9\u001b[0m   \u001b[1;32mif\u001b[0m \u001b[1;34m'swp'\u001b[0m \u001b[1;32mnot\u001b[0m \u001b[1;32min\u001b[0m \u001b[0mdat_key\u001b[0m\u001b[1;33m:\u001b[0m\u001b[1;33m\u001b[0m\u001b[0m\n\u001b[1;32m---> 10\u001b[1;33m     \u001b[0mf\u001b[0m \u001b[1;33m=\u001b[0m \u001b[0mopen\u001b[0m\u001b[1;33m(\u001b[0m\u001b[1;34m'data/%s_data.pckl'\u001b[0m\u001b[1;33m%\u001b[0m\u001b[0mdat_key\u001b[0m\u001b[1;33m,\u001b[0m \u001b[1;34m'r'\u001b[0m\u001b[1;33m)\u001b[0m\u001b[1;33m\u001b[0m\u001b[0m\n\u001b[0m\u001b[0;32m     11\u001b[0m     \u001b[0mfiles\u001b[0m \u001b[1;33m=\u001b[0m \u001b[0mpickle\u001b[0m\u001b[1;33m.\u001b[0m\u001b[0mload\u001b[0m\u001b[1;33m(\u001b[0m\u001b[0mf\u001b[0m\u001b[1;33m)\u001b[0m\u001b[1;33m\u001b[0m\u001b[0m\n\u001b[0;32m     12\u001b[0m     \u001b[0mf\u001b[0m\u001b[1;33m.\u001b[0m\u001b[0mclose\u001b[0m\u001b[1;33m(\u001b[0m\u001b[1;33m)\u001b[0m\u001b[1;33m\u001b[0m\u001b[0m\n",
        "\u001b[1;31mIOError\u001b[0m: [Errno 2] No such file or directory: 'data/MgZnO_data.pckl'"
       ]
      },
      {
       "metadata": {},
       "output_type": "display_data",
       "png": "[encoded data removed]",
       "text": [
        "<matplotlib.figure.Figure at 0x5b08710>"
       ]
      }
     ],
     "prompt_number": 4
    },
    {
     "cell_type": "raw",
     "metadata": {},
     "source": [
      "in2o3: Hamberg, C. G. Granqvist, J. Appl. Phys., 60, R123 (1986).\n",
      "ga2o3: M. Passlack, N. E. J. Hunt, E. F. Schubert, G. J. Zydzik, M. Hong, J. P. Mannaerts, R. L. Opila, and R. J. Fischer, Appl. Phys. Lett. 64, 2715 1994. 5\n",
      "sno2:2. D.M. Roessler, W.A. Albers, IR reflectance of single crystal tetragonal GeO2, J. Phys .Chem. Soc. 33, 393 (1972)"
     ]
    },
    {
     "cell_type": "code",
     "collapsed": false,
     "input": [
      "mgzn =0.3\n",
      "inga = 0.03\n",
      "snzn=0.3\n",
      "snti = 0.4\n",
      "znga = 0.16\n",
      "znin =0.13"
     ],
     "language": "python",
     "metadata": {},
     "outputs": []
    },
    {
     "cell_type": "code",
     "collapsed": false,
     "input": [],
     "language": "python",
     "metadata": {},
     "outputs": []
    }
   ],
   "metadata": {}
  }
 ]
}